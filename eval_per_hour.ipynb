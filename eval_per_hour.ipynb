{
 "cells": [
  {
   "cell_type": "code",
   "execution_count": 7,
   "metadata": {},
   "outputs": [],
   "source": [
    "import pandas as pd\n",
    "import matplotlib.pyplot as plt\n",
    "import time\n",
    "import numpy as np\n",
    "\n",
    "from fitter import Fitter\n",
    "import scipy.stats\n",
    "from scipy.stats import exponnorm, erlang, gennorm\n",
    "\n",
    "from skmultiflow.drift_detection import PageHinkley\n",
    "from driftwatch import GreedyKS, IksReservoir, ReservoirSampling, LallDDSketch"
   ]
  },
  {
   "cell_type": "code",
   "execution_count": 8,
   "metadata": {},
   "outputs": [],
   "source": [
    "def get_file_names():\n",
    "    files = []\n",
    "    days = range(1, 23) # 1, 32\n",
    "    months = range(1, 2) #1, 3\n",
    "    for month in months:\n",
    "        month_2_digits = '{month:02}'.format(month=month)\n",
    "        path = './COVID19_Tweets_Dataset_2020/Summary_Sentiment/2020_' + month_2_digits + '/'\n",
    "\n",
    "        for day in days:\n",
    "            if month == 2 and day > 29:\n",
    "                continue\n",
    "            if month == 1 and day < 22:\n",
    "                continue\n",
    "\n",
    "            for hour in range(24):\n",
    "                file_name = path + f'2020_{month_2_digits}_' + '{day:02}'.format(day=day) + '_{hour:02}'.format(hour=hour) + '_Summary_Sentiment.csv'\n",
    "                files.append(file_name)\n",
    "\n",
    "    return files"
   ]
  },
  {
   "cell_type": "code",
   "execution_count": 9,
   "metadata": {},
   "outputs": [],
   "source": [
    "def get_dist_obj(dist, param):\n",
    "    if dist == 'gamma':\n",
    "        return scipy.stats.gamma(**param)\n",
    "    if dist == 'rayleigh':\n",
    "        return scipy.stats.rayleigh(**param)\n",
    "    if dist == 'uniform':\n",
    "        return scipy.stats.uniform(**param)"
   ]
  },
  {
   "cell_type": "code",
   "execution_count": 40,
   "metadata": {},
   "outputs": [],
   "source": [
    "def ph_builder(ref_distrib, num_bins):\n",
    "    return PageHinkley(min_instances=0)\n",
    "\n",
    "def rs_builder(ref_distrib, num_bins):\n",
    "    return ReservoirSampling(num_bins, ref_distrib)\n",
    "\n",
    "def gks_builder(ref_distrib, num_bins):\n",
    "    return GreedyKS(ref_distrib, num_bins, exact_prob=True)\n",
    "\n",
    "# def dds_builder(ref_distrib, num_bins, stream):\n",
    "#     return LallDDSketch(compute_ddsketch_error(stream, num_bins), ref_distrib)\n",
    "\n",
    "def iks_builder(ref_distrib, num_bins):\n",
    "    return IksReservoir(num_bins, ref_distrib)\n",
    "\n",
    "method_factory = {\n",
    "    'Page Hinkley': ph_builder,\n",
    "    'Reservoir Sampling': rs_builder,\n",
    "    'GreedyKS': gks_builder,\n",
    "    # 'Lall + DDSketch': dds_builder,\n",
    "    'IKS + RS': iks_builder,\n",
    "}\n",
    "\n",
    "methods_colors = {\n",
    "    \"Reservoir Sampling\" : 'r',\n",
    "    \"GreedyKS\" : 'g',\n",
    "    \"IKS + RS\" : 'b',\n",
    "    'Page Hinkley': 'yellow'\n",
    "\n",
    "}\n",
    "\n",
    "methods = ['Page Hinkley','GreedyKS', 'Reservoir Sampling', 'IKS + RS']#, 'Lall + DDSketch']"
   ]
  },
  {
   "cell_type": "code",
   "execution_count": 41,
   "metadata": {},
   "outputs": [],
   "source": [
    "def run(num_bins):\n",
    "    files = get_file_names()\n",
    "    instances_methods = {}\n",
    "    index = 0\n",
    "    methods_drifts = {\n",
    "        \"Page Hinkley\": [],\n",
    "        \"GreedyKS\" : [],\n",
    "        \"Reservoir Sampling\" : [],\n",
    "        \"IKS + RS\": [],\n",
    "    }\n",
    "    methods_times = {\n",
    "        \"Page Hinkley\": 0,\n",
    "        \"GreedyKS\" : 0,\n",
    "        \"Reservoir Sampling\" : 0,\n",
    "        \"IKS + RS\" : 0\n",
    "    }\n",
    "\n",
    "\n",
    "    for file in files:\n",
    "\n",
    "        sample = pd.read_csv(file)['Logits_Negative']\n",
    "\n",
    "        f = Fitter(sample, distributions=[\"gamma\", \"rayleigh\", \"uniform\"])\n",
    "        f.fit()\n",
    "        best_fitted = f.get_best()\n",
    "        dist = get_dist_obj(list(best_fitted.keys())[0], list(best_fitted.values())[0])\n",
    "        \n",
    "        for element in sample:\n",
    "            index += 1\n",
    "            for m in methods:\n",
    "                if m in instances_methods:\n",
    "                    start = time.time()\n",
    "                    instances_methods[m].add_element(element)\n",
    "                    if instances_methods[m].detected_change():\n",
    "                        methods_drifts[m].append(index)\n",
    "                        del instances_methods[m]\n",
    "                    \n",
    "                    methods_times[m] = methods_times[m] + time.time() - start\n",
    "\n",
    "        for m in methods:\n",
    "            if m not in instances_methods:\n",
    "                instances_methods[m] = method_factory[m](dist, num_bins)\n",
    "                for element in sample:\n",
    "                    instances_methods[m].add_element(element)\n",
    "\n",
    "    print('Number of tweets processed: ', index)\n",
    "\n",
    "    return methods_drifts, methods_times"
   ]
  },
  {
   "cell_type": "code",
   "execution_count": 42,
   "metadata": {},
   "outputs": [
    {
     "name": "stderr",
     "output_type": "stream",
     "text": [
      "Fitting 3 distributions: 100%|██████████| 3/3 [00:00<00:00, 84.99it/s]\n",
      "Fitting 3 distributions: 100%|██████████| 3/3 [00:00<00:00, 40.09it/s]\n",
      "Fitting 3 distributions: 100%|██████████| 3/3 [00:00<00:00, 44.25it/s]\n",
      "Fitting 3 distributions: 100%|██████████| 3/3 [00:00<00:00, 97.10it/s]\n",
      "Fitting 3 distributions: 100%|██████████| 3/3 [00:00<00:00, 114.58it/s]\n",
      "Fitting 3 distributions: 100%|██████████| 3/3 [00:00<00:00, 75.18it/s]\n",
      "Fitting 3 distributions: 100%|██████████| 3/3 [00:00<00:00, 62.73it/s]\n",
      "Fitting 3 distributions: 100%|██████████| 3/3 [00:00<00:00, 83.74it/s]\n",
      "Fitting 3 distributions: 100%|██████████| 3/3 [00:00<00:00, 67.78it/s]\n",
      "Fitting 3 distributions: 100%|██████████| 3/3 [00:00<00:00, 60.51it/s]\n",
      "Fitting 3 distributions: 100%|██████████| 3/3 [00:00<00:00, 58.11it/s]\n",
      "Fitting 3 distributions: 100%|██████████| 3/3 [00:00<00:00, 93.90it/s]\n",
      "Fitting 3 distributions: 100%|██████████| 3/3 [00:00<00:00, 85.94it/s]\n",
      "Fitting 3 distributions: 100%|██████████| 3/3 [00:00<00:00, 54.07it/s]\n",
      "Fitting 3 distributions: 100%|██████████| 3/3 [00:00<00:00, 37.70it/s]\n",
      "Fitting 3 distributions: 100%|██████████| 3/3 [00:00<00:00, 31.61it/s]\n",
      "Fitting 3 distributions: 100%|██████████| 3/3 [00:00<00:00, 36.50it/s]\n",
      "Fitting 3 distributions: 100%|██████████| 3/3 [00:00<00:00, 44.31it/s]\n",
      "Fitting 3 distributions: 100%|██████████| 3/3 [00:00<00:00, 27.53it/s]\n",
      "Fitting 3 distributions: 100%|██████████| 3/3 [00:00<00:00, 25.71it/s]\n",
      "Fitting 3 distributions: 100%|██████████| 3/3 [00:00<00:00, 23.81it/s]\n",
      "Fitting 3 distributions: 100%|██████████| 3/3 [00:00<00:00, 28.07it/s]\n",
      "Fitting 3 distributions: 100%|██████████| 3/3 [00:00<00:00, 25.02it/s]\n",
      "Fitting 3 distributions: 100%|██████████| 3/3 [00:00<00:00, 28.47it/s]\n"
     ]
    },
    {
     "name": "stdout",
     "output_type": "stream",
     "text": [
      "Number of tweets processed:  36333\n"
     ]
    }
   ],
   "source": [
    "methods_drifts, methods_times = run(3000)"
   ]
  },
  {
   "cell_type": "code",
   "execution_count": 43,
   "metadata": {},
   "outputs": [
    {
     "data": {
      "text/plain": [
       "{'Page Hinkley': 0.03748488426208496,\n",
       " 'GreedyKS': 0.5755369663238525,\n",
       " 'Reservoir Sampling': 0.7163150310516357,\n",
       " 'IKS + RS': 0.8226301670074463}"
      ]
     },
     "execution_count": 43,
     "metadata": {},
     "output_type": "execute_result"
    }
   ],
   "source": [
    "methods_times"
   ]
  },
  {
   "cell_type": "code",
   "execution_count": 46,
   "metadata": {},
   "outputs": [
    {
     "name": "stdout",
     "output_type": "stream",
     "text": [
      "Drifts detected\n",
      "Reservoir Sampling -  20\n",
      "GreedyKS -  20\n",
      "IKS + RS -  19\n",
      "Page Hinkley -  11\n"
     ]
    }
   ],
   "source": [
    "print('Drifts detected')\n",
    "print('Reservoir Sampling - ', len(methods_drifts['Reservoir Sampling']))\n",
    "print('GreedyKS - ', len(methods_drifts['GreedyKS']))\n",
    "print('IKS + RS - ', len(methods_drifts['IKS + RS']))\n",
    "print('Page Hinkley - ', len(methods_drifts['Page Hinkley']))\n"
   ]
  },
  {
   "cell_type": "code",
   "execution_count": 47,
   "metadata": {},
   "outputs": [
    {
     "data": {
      "image/png": "[encoded data removed]",
      "text/plain": [
       "<Figure size 640x480 with 1 Axes>"
      ]
     },
     "metadata": {},
     "output_type": "display_data"
    }
   ],
   "source": [
    "files = get_file_names()\n",
    "stream = []\n",
    "for file in files:\n",
    "    stream.append(pd.read_csv(file)['Logits_Negative'])\n",
    "stream = pd.concat(stream, ignore_index=True)\n",
    "\n",
    "\n",
    "rolling_mean = stream.rolling(len(stream)//10, min_periods=0).mean()\n",
    "\n",
    "# plt.figure(figsize=(5,3.5))\n",
    "plt.plot(rolling_mean, linewidth=1)\n",
    "\n",
    "for m in methods_drifts:\n",
    "    # if m != 'page hinkley':\n",
    "    #     continue\n",
    "    for d in methods_drifts[m]:\n",
    "        plt.axvline(x = d, color = methods_colors[m], linewidth=0.9, label=m)\n",
    "\n",
    "\n",
    "\n",
    "\n",
    "plt.title('Drifts showed according rolling mean')\n",
    "# plt.legend()\n",
    "plt.xlabel('index')\n",
    "plt.ylabel('rolling mean')\n",
    "plt.grid(True)\n",
    "plt.tight_layout()\n",
    "plt.show()"
   ]
  },
  {
   "cell_type": "code",
   "execution_count": null,
   "metadata": {},
   "outputs": [],
   "source": []
  }
 ],
 "metadata": {
  "kernelspec": {
   "display_name": "venv",
   "language": "python",
   "name": "python3"
  },
  "language_info": {
   "codemirror_mode": {
    "name": "ipython",
    "version": 3
   },
   "file_extension": ".py",
   "mimetype": "text/x-python",
   "name": "python",
   "nbconvert_exporter": "python",
   "pygments_lexer": "ipython3",
   "version": "3.8.10"
  },
  "orig_nbformat": 4,
  "vscode": {
   "interpreter": {
    "hash": "eacde64116501d434fc36353d8e421b6798d96015acf9f09cfdb6234af2c3678"
   }
  }
 },
 "nbformat": 4,
 "nbformat_minor": 2
}
