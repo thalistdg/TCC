{
 "cells": [
  {
   "cell_type": "code",
   "execution_count": 1,
   "metadata": {},
   "outputs": [],
   "source": [
    "import pandas as pd\n",
    "import matplotlib.pyplot as plt\n",
    "import time\n",
    "import numpy as np\n",
    "import tqdm\n",
    "\n",
    "import seaborn as sns\n",
    "from fitter import Fitter\n",
    "import scipy.stats\n",
    "from scipy.stats import exponnorm, erlang, gennorm\n",
    "from empirical_distribution import EmpiricalDistribution\n",
    "import util\n",
    "import dtaidistance.dtw\n",
    "\n",
    "from skmultiflow.drift_detection import PageHinkley\n",
    "from driftwatch import GreedyKS, IksReservoir, ReservoirSampling, LallDDSketch\n",
    "\n",
    "experiments = [\n",
    "    [{'file_column': 'Logits_Negative', 'days_range': (22,23), 'months_range': (1,2), 'hours_range': (0,24)}, 'fit'],\n",
    "    [{'file_column': 'Logits_Negative', 'days_range': (22,23), 'months_range': (1,2), 'hours_range': (0,24)}, 'empirical']\n",
    "]"
   ]
  },
  {
   "cell_type": "code",
   "execution_count": 2,
   "metadata": {},
   "outputs": [],
   "source": [
    "# methods_colors = {\n",
    "#     \"Reservoir Sampling\" : 'r',\n",
    "#     \"GreedyKS\" : 'g',\n",
    "#     \"IKS + RS\" : 'b',\n",
    "#     'Page Hinkley': 'yellow'\n",
    "\n",
    "# }\n",
    "\n",
    "def show_stats(methods_drifts, methods_times):\n",
    "    n_drifts = [len(methods_drifts[m]) for m in methods_drifts]\n",
    "    df = pd.DataFrame([methods_times.values(),n_drifts], index=['time', 'drifts'], columns=methods_times.keys())\n",
    "    display(df)"
   ]
  },
  {
   "cell_type": "code",
   "execution_count": 3,
   "metadata": {},
   "outputs": [
    {
     "name": "stderr",
     "output_type": "stream",
     "text": [
      "Fitting 2 distributions: 100%|██████████| 2/2 [00:00<00:00, 26.53it/s]\n",
      "Fitting 2 distributions: 100%|██████████| 2/2 [00:00<00:00, 22.28it/s]\n",
      "Fitting 2 distributions: 100%|██████████| 2/2 [00:00<00:00, 25.01it/s]\n",
      "Fitting 2 distributions: 100%|██████████| 2/2 [00:00<00:00, 33.65it/s]\n",
      "Fitting 2 distributions: 100%|██████████| 2/2 [00:00<00:00, 23.69it/s]\n",
      "Fitting 2 distributions: 100%|██████████| 2/2 [00:00<00:00, 18.28it/s]\n",
      "Fitting 2 distributions: 100%|██████████| 2/2 [00:00<00:00, 20.11it/s]\n",
      "Fitting 2 distributions: 100%|██████████| 2/2 [00:00<00:00, 17.33it/s]\n",
      "Fitting 2 distributions: 100%|██████████| 2/2 [00:00<00:00, 29.45it/s]\n",
      "Fitting 2 distributions: 100%|██████████| 2/2 [00:00<00:00, 15.89it/s]\n",
      "Fitting 2 distributions: 100%|██████████| 2/2 [00:00<00:00, 15.70it/s]\n",
      "Fitting 2 distributions: 100%|██████████| 2/2 [00:00<00:00, 15.98it/s]\n",
      "Fitting 2 distributions: 100%|██████████| 2/2 [00:00<00:00, 15.55it/s]\n",
      "Fitting 2 distributions: 100%|██████████| 2/2 [00:00<00:00, 26.66it/s]\n",
      "Fitting 2 distributions: 100%|██████████| 2/2 [00:00<00:00, 12.40it/s]\n",
      "Fitting 2 distributions: 100%|██████████| 2/2 [00:00<00:00, 13.00it/s]\n",
      "Fitting 2 distributions: 100%|██████████| 2/2 [00:00<00:00, 12.43it/s]\n",
      "Fitting 2 distributions: 100%|██████████| 2/2 [00:00<00:00, 12.96it/s]\n",
      "Fitting 2 distributions: 100%|██████████| 2/2 [00:00<00:00, 27.35it/s]\n",
      "100%|██████████| 24/24 [00:27<00:00,  1.13s/it]\n"
     ]
    },
    {
     "name": "stdout",
     "output_type": "stream",
     "text": [
      "Number of tweets processed:  36333\n"
     ]
    },
    {
     "name": "stderr",
     "output_type": "stream",
     "text": [
      "100%|██████████| 24/24 [00:22<00:00,  1.05it/s]"
     ]
    },
    {
     "name": "stdout",
     "output_type": "stream",
     "text": [
      "Number of tweets processed:  36333\n"
     ]
    },
    {
     "name": "stderr",
     "output_type": "stream",
     "text": [
      "\n"
     ]
    }
   ],
   "source": [
    "results_dtw = {}\n",
    "results_times = {}\n",
    "for e in experiments:\n",
    "    stream_ln, tweets_per_file = util.load_data(**e[0])\n",
    "    args = (3000, tweets_per_file, e[1], True)\n",
    "    methods_drifts, methods_times = util.run(args)\n",
    "    results_dtw[e[1]] = {k:dtaidistance.dtw.distance(methods_drifts.get(k, []), methods_drifts['mini-batch']) for k in util.approx_methods if k != 'mini-batch'}\n",
    "    results_times[e[1]] = methods_times"
   ]
  },
  {
   "cell_type": "code",
   "execution_count": 4,
   "metadata": {},
   "outputs": [
    {
     "data": {
      "text/plain": [
       "{'fit': {'Page Hinkley': 0.03631019592285156,\n",
       "  'GreedyKS': 0.7358150482177734,\n",
       "  'Reservoir Sampling': 0.7550818920135498,\n",
       "  'IKS + RS': 0.6585032939910889},\n",
       " 'empirical': {'Page Hinkley': 0.03383016586303711,\n",
       "  'GreedyKS': 1.0270843505859375,\n",
       "  'Reservoir Sampling': 3.165773868560791,\n",
       "  'IKS + RS': 2.1509344577789307}}"
      ]
     },
     "execution_count": 4,
     "metadata": {},
     "output_type": "execute_result"
    }
   ],
   "source": [
    "results_times"
   ]
  },
  {
   "cell_type": "code",
   "execution_count": 6,
   "metadata": {},
   "outputs": [
    {
     "data": {
      "text/html": [
       "<div>\n",
       "<style scoped>\n",
       "    .dataframe tbody tr th:only-of-type {\n",
       "        vertical-align: middle;\n",
       "    }\n",
       "\n",
       "    .dataframe tbody tr th {\n",
       "        vertical-align: top;\n",
       "    }\n",
       "\n",
       "    .dataframe thead th {\n",
       "        text-align: right;\n",
       "    }\n",
       "</style>\n",
       "<table border=\"1\" class=\"dataframe\">\n",
       "  <thead>\n",
       "    <tr style=\"text-align: right;\">\n",
       "      <th></th>\n",
       "      <th>fit</th>\n",
       "      <th>empirical</th>\n",
       "    </tr>\n",
       "  </thead>\n",
       "  <tbody>\n",
       "    <tr>\n",
       "      <th>Page Hinkley</th>\n",
       "      <td>5875.802413</td>\n",
       "      <td>5935.063100</td>\n",
       "    </tr>\n",
       "    <tr>\n",
       "      <th>GreedyKS</th>\n",
       "      <td>362.422405</td>\n",
       "      <td>923.641705</td>\n",
       "    </tr>\n",
       "    <tr>\n",
       "      <th>Reservoir Sampling</th>\n",
       "      <td>357.748515</td>\n",
       "      <td>923.607601</td>\n",
       "    </tr>\n",
       "    <tr>\n",
       "      <th>IKS + RS</th>\n",
       "      <td>403.163738</td>\n",
       "      <td>2780.982560</td>\n",
       "    </tr>\n",
       "  </tbody>\n",
       "</table>\n",
       "</div>"
      ],
      "text/plain": [
       "                            fit    empirical\n",
       "Page Hinkley        5875.802413  5935.063100\n",
       "GreedyKS             362.422405   923.641705\n",
       "Reservoir Sampling   357.748515   923.607601\n",
       "IKS + RS             403.163738  2780.982560"
      ]
     },
     "execution_count": 6,
     "metadata": {},
     "output_type": "execute_result"
    }
   ],
   "source": [
    "# pd.DataFrame([results_dtw['fit']], columns=list(results_dtw['fit'].keys()))\n",
    "pd.DataFrame(results_dtw)"
   ]
  },
  {
   "cell_type": "code",
   "execution_count": 12,
   "metadata": {},
   "outputs": [
    {
     "data": {
      "text/plain": [
       "[0,\n",
       " 216,\n",
       " 418,\n",
       " 715,\n",
       " 935,\n",
       " 1147,\n",
       " 1634,\n",
       " 2226,\n",
       " 2863,\n",
       " 3832,\n",
       " 4772,\n",
       " 6080,\n",
       " 7538,\n",
       " 9449,\n",
       " 11356,\n",
       " 13172,\n",
       " 16407,\n",
       " 20826,\n",
       " 25501,\n",
       " 29322,\n",
       " 32832]"
      ]
     },
     "execution_count": 12,
     "metadata": {},
     "output_type": "execute_result"
    }
   ],
   "source": [
    "methods_drifts['mini-batch']"
   ]
  },
  {
   "cell_type": "code",
   "execution_count": 9,
   "metadata": {},
   "outputs": [
    {
     "ename": "UFuncTypeError",
     "evalue": "ufunc 'add' did not contain a loop with signature matching types (dtype('<U18'), dtype('<U18')) -> None",
     "output_type": "error",
     "traceback": [
      "\u001b[0;31m---------------------------------------------------------------------------\u001b[0m",
      "\u001b[0;31mUFuncTypeError\u001b[0m                            Traceback (most recent call last)",
      "Cell \u001b[0;32mIn[9], line 32\u001b[0m\n\u001b[1;32m     29\u001b[0m fig, axs \u001b[39m=\u001b[39m plt\u001b[39m.\u001b[39msubplots(\u001b[39m2\u001b[39m,\u001b[39m2\u001b[39m, sharex\u001b[39m=\u001b[39m\u001b[39mTrue\u001b[39;00m, figsize\u001b[39m=\u001b[39m(\u001b[39m9\u001b[39m,\u001b[39m6\u001b[39m), gridspec_kw\u001b[39m=\u001b[39m{\u001b[39m'\u001b[39m\u001b[39mhspace\u001b[39m\u001b[39m'\u001b[39m:\u001b[39m0.0\u001b[39m, \u001b[39m'\u001b[39m\u001b[39mwspace\u001b[39m\u001b[39m'\u001b[39m:\u001b[39m0.0\u001b[39m})\n\u001b[1;32m     31\u001b[0m \u001b[39mfor\u001b[39;00m e, (i,j) \u001b[39min\u001b[39;00m \u001b[39menumerate\u001b[39m(\u001b[39mzip\u001b[39m(results_dtw, axs\u001b[39m.\u001b[39mT)):\n\u001b[0;32m---> 32\u001b[0m     zz \u001b[39m=\u001b[39m show_results(results_dtw[i], j, i, e \u001b[39m==\u001b[39;49m \u001b[39m1\u001b[39;49m)\n\u001b[1;32m     33\u001b[0m     j[\u001b[39m0\u001b[39m]\u001b[39m.\u001b[39mset_yticklabels([])\n\u001b[1;32m     35\u001b[0m     \u001b[39mif\u001b[39;00m e:\n",
      "Cell \u001b[0;32mIn[9], line 10\u001b[0m, in \u001b[0;36mshow_results\u001b[0;34m(results, axs, d_type, legend)\u001b[0m\n\u001b[1;32m      9\u001b[0m \u001b[39mdef\u001b[39;00m \u001b[39mshow_results\u001b[39m(results, axs, d_type, legend\u001b[39m=\u001b[39m\u001b[39mFalse\u001b[39;00m):\n\u001b[0;32m---> 10\u001b[0m     bps \u001b[39m=\u001b[39m axs[\u001b[39m0\u001b[39;49m]\u001b[39m.\u001b[39;49mboxplot(results, vert\u001b[39m=\u001b[39;49m\u001b[39mFalse\u001b[39;49;00m, patch_artist\u001b[39m=\u001b[39;49m\u001b[39mTrue\u001b[39;49;00m)\n\u001b[1;32m     11\u001b[0m     axs[\u001b[39m0\u001b[39m]\u001b[39m.\u001b[39mset_xscale(\u001b[39m'\u001b[39m\u001b[39mlog\u001b[39m\u001b[39m'\u001b[39m)\n\u001b[1;32m     12\u001b[0m     axs[\u001b[39m0\u001b[39m]\u001b[39m.\u001b[39mgrid(axis\u001b[39m=\u001b[39m\u001b[39m'\u001b[39m\u001b[39mx\u001b[39m\u001b[39m'\u001b[39m)\n",
      "File \u001b[0;32m~/repositories/TCC/venv/lib/python3.8/site-packages/matplotlib/__init__.py:1412\u001b[0m, in \u001b[0;36m_preprocess_data.<locals>.inner\u001b[0;34m(ax, data, *args, **kwargs)\u001b[0m\n\u001b[1;32m   1409\u001b[0m \u001b[39m@functools\u001b[39m\u001b[39m.\u001b[39mwraps(func)\n\u001b[1;32m   1410\u001b[0m \u001b[39mdef\u001b[39;00m \u001b[39minner\u001b[39m(ax, \u001b[39m*\u001b[39margs, data\u001b[39m=\u001b[39m\u001b[39mNone\u001b[39;00m, \u001b[39m*\u001b[39m\u001b[39m*\u001b[39mkwargs):\n\u001b[1;32m   1411\u001b[0m     \u001b[39mif\u001b[39;00m data \u001b[39mis\u001b[39;00m \u001b[39mNone\u001b[39;00m:\n\u001b[0;32m-> 1412\u001b[0m         \u001b[39mreturn\u001b[39;00m func(ax, \u001b[39m*\u001b[39;49m\u001b[39mmap\u001b[39;49m(sanitize_sequence, args), \u001b[39m*\u001b[39;49m\u001b[39m*\u001b[39;49mkwargs)\n\u001b[1;32m   1414\u001b[0m     bound \u001b[39m=\u001b[39m new_sig\u001b[39m.\u001b[39mbind(ax, \u001b[39m*\u001b[39margs, \u001b[39m*\u001b[39m\u001b[39m*\u001b[39mkwargs)\n\u001b[1;32m   1415\u001b[0m     auto_label \u001b[39m=\u001b[39m (bound\u001b[39m.\u001b[39marguments\u001b[39m.\u001b[39mget(label_namer)\n\u001b[1;32m   1416\u001b[0m                   \u001b[39mor\u001b[39;00m bound\u001b[39m.\u001b[39mkwargs\u001b[39m.\u001b[39mget(label_namer))\n",
      "File \u001b[0;32m~/repositories/TCC/venv/lib/python3.8/site-packages/matplotlib/axes/_axes.py:3711\u001b[0m, in \u001b[0;36mAxes.boxplot\u001b[0;34m(self, x, notch, sym, vert, whis, positions, widths, patch_artist, bootstrap, usermedians, conf_intervals, meanline, showmeans, showcaps, showbox, showfliers, boxprops, labels, flierprops, medianprops, meanprops, capprops, whiskerprops, manage_ticks, autorange, zorder)\u001b[0m\n\u001b[1;32m   3708\u001b[0m \u001b[39mif\u001b[39;00m bootstrap \u001b[39mis\u001b[39;00m \u001b[39mNone\u001b[39;00m:\n\u001b[1;32m   3709\u001b[0m     bootstrap \u001b[39m=\u001b[39m rcParams[\u001b[39m'\u001b[39m\u001b[39mboxplot.bootstrap\u001b[39m\u001b[39m'\u001b[39m]\n\u001b[0;32m-> 3711\u001b[0m bxpstats \u001b[39m=\u001b[39m cbook\u001b[39m.\u001b[39;49mboxplot_stats(x, whis\u001b[39m=\u001b[39;49mwhis, bootstrap\u001b[39m=\u001b[39;49mbootstrap,\n\u001b[1;32m   3712\u001b[0m                                labels\u001b[39m=\u001b[39;49mlabels, autorange\u001b[39m=\u001b[39;49mautorange)\n\u001b[1;32m   3713\u001b[0m \u001b[39mif\u001b[39;00m notch \u001b[39mis\u001b[39;00m \u001b[39mNone\u001b[39;00m:\n\u001b[1;32m   3714\u001b[0m     notch \u001b[39m=\u001b[39m rcParams[\u001b[39m'\u001b[39m\u001b[39mboxplot.notch\u001b[39m\u001b[39m'\u001b[39m]\n",
      "File \u001b[0;32m~/repositories/TCC/venv/lib/python3.8/site-packages/matplotlib/cbook/__init__.py:1195\u001b[0m, in \u001b[0;36mboxplot_stats\u001b[0;34m(X, whis, bootstrap, labels, autorange)\u001b[0m\n\u001b[1;32m   1192\u001b[0m x \u001b[39m=\u001b[39m np\u001b[39m.\u001b[39masarray(x)\n\u001b[1;32m   1194\u001b[0m \u001b[39m# arithmetic mean\u001b[39;00m\n\u001b[0;32m-> 1195\u001b[0m stats[\u001b[39m'\u001b[39m\u001b[39mmean\u001b[39m\u001b[39m'\u001b[39m] \u001b[39m=\u001b[39m np\u001b[39m.\u001b[39;49mmean(x)\n\u001b[1;32m   1197\u001b[0m \u001b[39m# medians and quartiles\u001b[39;00m\n\u001b[1;32m   1198\u001b[0m q1, med, q3 \u001b[39m=\u001b[39m np\u001b[39m.\u001b[39mpercentile(x, [\u001b[39m25\u001b[39m, \u001b[39m50\u001b[39m, \u001b[39m75\u001b[39m])\n",
      "File \u001b[0;32m<__array_function__ internals>:180\u001b[0m, in \u001b[0;36mmean\u001b[0;34m(*args, **kwargs)\u001b[0m\n",
      "File \u001b[0;32m~/repositories/TCC/venv/lib/python3.8/site-packages/numpy/core/fromnumeric.py:3474\u001b[0m, in \u001b[0;36mmean\u001b[0;34m(a, axis, dtype, out, keepdims, where)\u001b[0m\n\u001b[1;32m   3471\u001b[0m     \u001b[39melse\u001b[39;00m:\n\u001b[1;32m   3472\u001b[0m         \u001b[39mreturn\u001b[39;00m mean(axis\u001b[39m=\u001b[39maxis, dtype\u001b[39m=\u001b[39mdtype, out\u001b[39m=\u001b[39mout, \u001b[39m*\u001b[39m\u001b[39m*\u001b[39mkwargs)\n\u001b[0;32m-> 3474\u001b[0m \u001b[39mreturn\u001b[39;00m _methods\u001b[39m.\u001b[39;49m_mean(a, axis\u001b[39m=\u001b[39;49maxis, dtype\u001b[39m=\u001b[39;49mdtype,\n\u001b[1;32m   3475\u001b[0m                       out\u001b[39m=\u001b[39;49mout, \u001b[39m*\u001b[39;49m\u001b[39m*\u001b[39;49mkwargs)\n",
      "File \u001b[0;32m~/repositories/TCC/venv/lib/python3.8/site-packages/numpy/core/_methods.py:179\u001b[0m, in \u001b[0;36m_mean\u001b[0;34m(a, axis, dtype, out, keepdims, where)\u001b[0m\n\u001b[1;32m    176\u001b[0m         dtype \u001b[39m=\u001b[39m mu\u001b[39m.\u001b[39mdtype(\u001b[39m'\u001b[39m\u001b[39mf4\u001b[39m\u001b[39m'\u001b[39m)\n\u001b[1;32m    177\u001b[0m         is_float16_result \u001b[39m=\u001b[39m \u001b[39mTrue\u001b[39;00m\n\u001b[0;32m--> 179\u001b[0m ret \u001b[39m=\u001b[39m umr_sum(arr, axis, dtype, out, keepdims, where\u001b[39m=\u001b[39;49mwhere)\n\u001b[1;32m    180\u001b[0m \u001b[39mif\u001b[39;00m \u001b[39misinstance\u001b[39m(ret, mu\u001b[39m.\u001b[39mndarray):\n\u001b[1;32m    181\u001b[0m     ret \u001b[39m=\u001b[39m um\u001b[39m.\u001b[39mtrue_divide(\n\u001b[1;32m    182\u001b[0m             ret, rcount, out\u001b[39m=\u001b[39mret, casting\u001b[39m=\u001b[39m\u001b[39m'\u001b[39m\u001b[39munsafe\u001b[39m\u001b[39m'\u001b[39m, subok\u001b[39m=\u001b[39m\u001b[39mFalse\u001b[39;00m)\n",
      "\u001b[0;31mUFuncTypeError\u001b[0m: ufunc 'add' did not contain a loop with signature matching types (dtype('<U18'), dtype('<U18')) -> None"
     ]
    },
    {
     "data": {
      "image/png": "[encoded data removed]",
      "text/plain": [
       "<Figure size 900x600 with 4 Axes>"
      ]
     },
     "metadata": {},
     "output_type": "display_data"
    }
   ],
   "source": [
    "axes_prop_cycle = {\n",
    "    'markersize':[8]*20,\n",
    "    'linewidth':[1]*20,\n",
    "    'markevery': [8]*20,\n",
    "    'marker':['o', 'X', 's', 'P', 'D']*4,\n",
    "    'color':sns.color_palette(\"Set1\", 20)\n",
    "}\n",
    "\n",
    "def show_results(results, axs, d_type, legend=False):\n",
    "    bps = axs[0].boxplot(results, vert=False, patch_artist=True)\n",
    "    axs[0].set_xscale('log')\n",
    "    axs[0].grid(axis='x')\n",
    "    axs[0].set_title(r'Distribution type: ' + d_type)\n",
    "    axs[0].set_yticklabels([])\n",
    "    \n",
    "    for i, j, k, l in zip(bps['boxes'], bps['medians'], axes_prop_cycle['marker'][3::-1], axes_prop_cycle['color']):\n",
    "        i.set_facecolor(l)\n",
    "        j.set_color('black')\n",
    "        j.set_marker(k)\n",
    "        j.set_markevery(1)\n",
    "        j.set_markerfacecolor(l)\n",
    "    \n",
    "    sns.ecdfplot(results, log_scale=True, ax=axs[1], legend=legend, alpha=0.8)\n",
    "    axs[1].grid()\n",
    "    axs[1].set_ylim([-0.05, 1.05])\n",
    "    \n",
    "    return bps\n",
    "\n",
    "fig, axs = plt.subplots(2,2, sharex=True, figsize=(9,6), gridspec_kw={'hspace':0.0, 'wspace':0.0})\n",
    "\n",
    "for e, (i,j) in enumerate(zip(results_dtw, axs.T)):\n",
    "    zz = show_results(results_dtw[i], j, i, e == 1)\n",
    "    j[0].set_yticklabels([])\n",
    "    \n",
    "    if e:\n",
    "        j[1].set_yticklabels([])\n",
    "        j[1].set_ylabel('')\n",
    "    \n",
    "\n",
    "axs[1,0].set_ylabel('Cumulative Probability')\n",
    "axs[1,1].set_xlabel('DTW value')\n",
    "sns.move_legend(axs[1,1], loc='lower center', ncol=5, bbox_to_anchor=(0.5, -0.45))\n",
    "\n",
    "for i, j in zip(axs[1,1].legend_.legendHandles, axes_prop_cycle['marker'][3::-1]): \n",
    "    i.set_marker(j)\n",
    "    i.set_markersize(8)\n",
    "\n",
    "\n",
    "fig.tight_layout()\n",
    "\n",
    "# fig.savefig('./data_pdf_files/call_center.pdf')"
   ]
  },
  {
   "cell_type": "code",
   "execution_count": 4,
   "metadata": {},
   "outputs": [
    {
     "name": "stdout",
     "output_type": "stream",
     "text": [
      "fit\n"
     ]
    },
    {
     "data": {
      "text/html": [
       "<div>\n",
       "<style scoped>\n",
       "    .dataframe tbody tr th:only-of-type {\n",
       "        vertical-align: middle;\n",
       "    }\n",
       "\n",
       "    .dataframe tbody tr th {\n",
       "        vertical-align: top;\n",
       "    }\n",
       "\n",
       "    .dataframe thead th {\n",
       "        text-align: right;\n",
       "    }\n",
       "</style>\n",
       "<table border=\"1\" class=\"dataframe\">\n",
       "  <thead>\n",
       "    <tr style=\"text-align: right;\">\n",
       "      <th></th>\n",
       "      <th>Page Hinkley</th>\n",
       "      <th>GreedyKS</th>\n",
       "      <th>Reservoir Sampling</th>\n",
       "      <th>IKS + RS</th>\n",
       "    </tr>\n",
       "  </thead>\n",
       "  <tbody>\n",
       "    <tr>\n",
       "      <th>time</th>\n",
       "      <td>0.036164</td>\n",
       "      <td>0.716456</td>\n",
       "      <td>0.743053</td>\n",
       "      <td>0.638199</td>\n",
       "    </tr>\n",
       "    <tr>\n",
       "      <th>drifts</th>\n",
       "      <td>11.000000</td>\n",
       "      <td>19.000000</td>\n",
       "      <td>19.000000</td>\n",
       "      <td>18.000000</td>\n",
       "    </tr>\n",
       "  </tbody>\n",
       "</table>\n",
       "</div>"
      ],
      "text/plain": [
       "        Page Hinkley   GreedyKS  Reservoir Sampling   IKS + RS\n",
       "time        0.036164   0.716456            0.743053   0.638199\n",
       "drifts     11.000000  19.000000           19.000000  18.000000"
      ]
     },
     "metadata": {},
     "output_type": "display_data"
    },
    {
     "name": "stdout",
     "output_type": "stream",
     "text": [
      "empirical\n"
     ]
    },
    {
     "data": {
      "text/html": [
       "<div>\n",
       "<style scoped>\n",
       "    .dataframe tbody tr th:only-of-type {\n",
       "        vertical-align: middle;\n",
       "    }\n",
       "\n",
       "    .dataframe tbody tr th {\n",
       "        vertical-align: top;\n",
       "    }\n",
       "\n",
       "    .dataframe thead th {\n",
       "        text-align: right;\n",
       "    }\n",
       "</style>\n",
       "<table border=\"1\" class=\"dataframe\">\n",
       "  <thead>\n",
       "    <tr style=\"text-align: right;\">\n",
       "      <th></th>\n",
       "      <th>Page Hinkley</th>\n",
       "      <th>GreedyKS</th>\n",
       "      <th>Reservoir Sampling</th>\n",
       "      <th>IKS + RS</th>\n",
       "    </tr>\n",
       "  </thead>\n",
       "  <tbody>\n",
       "    <tr>\n",
       "      <th>time</th>\n",
       "      <td>0.035441</td>\n",
       "      <td>1.071255</td>\n",
       "      <td>3.329258</td>\n",
       "      <td>2.440134</td>\n",
       "    </tr>\n",
       "    <tr>\n",
       "      <th>drifts</th>\n",
       "      <td>11.000000</td>\n",
       "      <td>20.000000</td>\n",
       "      <td>20.000000</td>\n",
       "      <td>19.000000</td>\n",
       "    </tr>\n",
       "  </tbody>\n",
       "</table>\n",
       "</div>"
      ],
      "text/plain": [
       "        Page Hinkley   GreedyKS  Reservoir Sampling   IKS + RS\n",
       "time        0.035441   1.071255            3.329258   2.440134\n",
       "drifts     11.000000  20.000000           20.000000  19.000000"
      ]
     },
     "metadata": {},
     "output_type": "display_data"
    }
   ],
   "source": [
    "for r in results:\n",
    "    print(r)\n",
    "    show_stats(*results[r])"
   ]
  },
  {
   "cell_type": "code",
   "execution_count": null,
   "metadata": {},
   "outputs": [
    {
     "data": {
      "image/png": "[encoded data removed]",
      "text/plain": [
       "<Figure size 640x480 with 1 Axes>"
      ]
     },
     "metadata": {},
     "output_type": "display_data"
    }
   ],
   "source": [
    "files = get_file_names()\n",
    "stream = []\n",
    "for file in files:\n",
    "    stream.append(pd.read_csv(file)['Logits_Negative'])\n",
    "stream = pd.concat(stream, ignore_index=True)\n",
    "\n",
    "\n",
    "rolling_mean = stream.rolling(len(stream)//10, min_periods=0).mean()\n",
    "\n",
    "# plt.figure(figsize=(5,3.5))\n",
    "plt.plot(rolling_mean, linewidth=1)\n",
    "\n",
    "for m in methods_drifts:\n",
    "    # if m != 'page hinkley':\n",
    "    #     continue\n",
    "    for d in methods_drifts[m]:\n",
    "        plt.axvline(x = d, color = methods_colors[m], linewidth=0.9, label=m)\n",
    "\n",
    "\n",
    "\n",
    "\n",
    "plt.title('Drifts showed according rolling mean')\n",
    "# plt.legend()\n",
    "plt.xlabel('index')\n",
    "plt.ylabel('rolling mean')\n",
    "plt.grid(True)\n",
    "plt.tight_layout()\n",
    "plt.show()"
   ]
  },
  {
   "cell_type": "code",
   "execution_count": null,
   "metadata": {},
   "outputs": [],
   "source": []
  },
  {
   "cell_type": "code",
   "execution_count": null,
   "metadata": {},
   "outputs": [],
   "source": []
  }
 ],
 "metadata": {
  "kernelspec": {
   "display_name": "venv",
   "language": "python",
   "name": "python3"
  },
  "language_info": {
   "codemirror_mode": {
    "name": "ipython",
    "version": 3
   },
   "file_extension": ".py",
   "mimetype": "text/x-python",
   "name": "python",
   "nbconvert_exporter": "python",
   "pygments_lexer": "ipython3",
   "version": "3.8.10"
  },
  "orig_nbformat": 4,
  "vscode": {
   "interpreter": {
    "hash": "eacde64116501d434fc36353d8e421b6798d96015acf9f09cfdb6234af2c3678"
   }
  }
 },
 "nbformat": 4,
 "nbformat_minor": 2
}
