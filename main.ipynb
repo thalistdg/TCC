{
 "cells": [
  {
   "cell_type": "code",
   "execution_count": 21,
   "metadata": {},
   "outputs": [],
   "source": [
    "import pandas as pd\n",
    "import matplotlib.pyplot as plt\n",
    "import time\n",
    "import numpy as np\n",
    "\n",
    "from fitter import Fitter\n",
    "import scipy.stats\n",
    "from scipy.stats import exponnorm, erlang, gennorm\n",
    "\n",
    "from skmultiflow.drift_detection import PageHinkley\n",
    "from driftwatch import GreedyKS, IksReservoir, ReservoirSampling, LallDDSketch"
   ]
  },
  {
   "cell_type": "code",
   "execution_count": 3,
   "metadata": {},
   "outputs": [],
   "source": [
    "# def get_methods(ref_distrib, num_bins, min_instances):\n",
    "#     ph = PageHinkley(min_instances=min_instances)\n",
    "#     gks = GreedyKS(dist=ref_distrib, m=num_bins, min_instances=min_instances)#, drift_threshold=0.000001)\n",
    "#     rs = ReservoirSampling(num_bins, ref_distrib)\n",
    "\n",
    "\n",
    "#     methods = {\n",
    "#         \"page hinkley\" : ph,\n",
    "#         \"greedyKS\" : gks,\n",
    "#         \"reservoir sampling\" : rs,\n",
    "        \n",
    "#     }\n",
    "#     methods_drifts = {\n",
    "#     \"page hinkley\" : [],\n",
    "#     \"greedyKS\" : [],\n",
    "#     \"reservoir sampling\" : [],\n",
    "\n",
    "#     }\n",
    "\n",
    "#     methods_times = {\n",
    "#         \"page hinkley\" : 0,\n",
    "#         \"greedyKS\" : 0,\n",
    "#         \"reservoir sampling\" : 0,\n",
    "\n",
    "#     }\n",
    "\n",
    "#     methods_colors = {\n",
    "#         \"page hinkley\" : 'r',\n",
    "#         \"greedyKS\" : 'g',\n",
    "#         \"reservoir sampling\" : 'b',\n",
    "\n",
    "#     }\n",
    "\n",
    "#     return methods, methods_drifts, methods_times, methods_colors"
   ]
  },
  {
   "cell_type": "code",
   "execution_count": 4,
   "metadata": {},
   "outputs": [],
   "source": [
    "def load_data(column):\n",
    "    stream = []\n",
    "    days = range(1, 23) # 1, 32\n",
    "    months = range(1, 2) #1, 3\n",
    "    for month in months:\n",
    "        month_2_digits = '{month:02}'.format(month=month)\n",
    "        path = './COVID19_Tweets_Dataset_2020/Summary_Sentiment/2020_' + month_2_digits + '/'\n",
    "\n",
    "        for day in days:\n",
    "            if month == 2 and day > 29:\n",
    "                continue\n",
    "            if month == 1 and day < 22:\n",
    "                continue\n",
    "\n",
    "            for hour in range(24):\n",
    "                file_name = path + f'2020_{month_2_digits}_' + '{day:02}'.format(day=day) + '_{hour:02}'.format(hour=hour) + '_Summary_Sentiment.csv'\n",
    "                stream.append(pd.read_csv(file_name)[column])\n",
    "\n",
    "    return pd.concat(stream, ignore_index=True), stream"
   ]
  },
  {
   "cell_type": "code",
   "execution_count": null,
   "metadata": {},
   "outputs": [],
   "source": [
    "stream_ln = load_data('Logits_Negative')[0]\n",
    "stream_lp = load_data('Logits_Positive')[0]\n",
    "stream_lt, tweets_per_file = load_data('Logits_Neutral')"
   ]
  },
  {
   "cell_type": "code",
   "execution_count": 5,
   "metadata": {},
   "outputs": [],
   "source": [
    "def get_fitted_ks_values(data):\n",
    "    f = Fitter(data)\n",
    "    f.fit()\n",
    "    return f.summary(plot=False, clf=False)['ks_pvalue'].values"
   ]
  },
  {
   "cell_type": "code",
   "execution_count": 9,
   "metadata": {},
   "outputs": [
    {
     "name": "stderr",
     "output_type": "stream",
     "text": [
      "Fitting 110 distributions:   0%|          | 0/110 [00:00<?, ?it/s]SKIPPED _fit distribution (taking more than 30 seconds)\n",
      "Fitting 110 distributions:  74%|███████▎  | 81/110 [00:11<00:03,  7.48it/s]SKIPPED rv_histogram distribution (taking more than 30 seconds)\n",
      "SKIPPED rv_continuous distribution (taking more than 30 seconds)\n",
      "Fitting 110 distributions:  97%|█████████▋| 107/110 [00:21<00:01,  1.66it/s]/home/thalis/repositories/TCC/venv/lib/python3.8/site-packages/scipy/integrate/_quadpack_py.py:1225: IntegrationWarning: The maximum number of subdivisions (50) has been achieved.\n",
      "  If increasing the limit yields no improvement it is advised to analyze \n",
      "  the integrand in order to determine the difficulties.  If the position of a \n",
      "  local difficulty can be determined (singularity, discontinuity) one will \n",
      "  probably gain from splitting up the interval and calling the integrator \n",
      "  on the subranges.  Perhaps a special-purpose integrator should be used.\n",
      "  quad_r = quad(f, low, high, args=args, full_output=self.full_output,\n",
      "Fitting 110 distributions:  99%|█████████▉| 109/110 [00:29<00:01,  1.77s/it]/home/thalis/repositories/TCC/venv/lib/python3.8/site-packages/scipy/integrate/_quadpack_py.py:1225: IntegrationWarning: The integral is probably divergent, or slowly convergent.\n",
      "  quad_r = quad(f, low, high, args=args, full_output=self.full_output,\n",
      "SKIPPED studentized_range distribution (taking more than 30 seconds)\n",
      "Fitting 110 distributions: 100%|██████████| 110/110 [00:42<00:00,  2.56it/s]\n"
     ]
    },
    {
     "data": {
      "text/plain": [
       "1.0"
      ]
     },
     "execution_count": 9,
     "metadata": {},
     "output_type": "execute_result"
    }
   ],
   "source": [
    "ks_values = []\n",
    "for tweets_hour in tweets_per_file:\n",
    "    ks_values.append(get_fitted_ks_values(tweets_hour))\n",
    "    break\n",
    "\n",
    "np.mean([i>=.01 for i in np.concatenate(ks_values)])"
   ]
  },
  {
   "cell_type": "code",
   "execution_count": 11,
   "metadata": {},
   "outputs": [
    {
     "name": "stderr",
     "output_type": "stream",
     "text": [
      "Fitting 110 distributions:   0%|          | 0/110 [00:00<?, ?it/s]SKIPPED _fit distribution (taking more than 30 seconds)\n",
      "Fitting 110 distributions:   1%|          | 1/110 [00:00<01:33,  1.16it/s]SKIPPED alpha distribution (taking more than 30 seconds)\n",
      "Fitting 110 distributions:   2%|▏         | 2/110 [00:30<32:26, 18.02s/it]SKIPPED anglit distribution (taking more than 30 seconds)\n",
      "SKIPPED arcsine distribution (taking more than 30 seconds)\n",
      "Fitting 110 distributions:   3%|▎         | 3/110 [00:31<17:35,  9.86s/it]SKIPPED argus distribution (taking more than 30 seconds)\n",
      "SKIPPED beta distribution (taking more than 30 seconds)\n",
      "Fitting 110 distributions:   5%|▍         | 5/110 [00:31<07:35,  4.34s/it]SKIPPED betaprime distribution (taking more than 30 seconds)\n",
      "SKIPPED bradford distribution (taking more than 30 seconds)\n",
      "Fitting 110 distributions:   7%|▋         | 8/110 [00:31<03:23,  2.00s/it]SKIPPED burr distribution (taking more than 30 seconds)\n",
      "Fitting 110 distributions:   9%|▉         | 10/110 [00:42<05:13,  3.14s/it]SKIPPED burr12 distribution (taking more than 30 seconds)\n",
      "Fitting 110 distributions:  10%|█         | 11/110 [01:01<10:19,  6.26s/it]SKIPPED chi distribution (taking more than 30 seconds)\n",
      "Fitting 110 distributions:  11%|█         | 12/110 [01:01<08:01,  4.92s/it]SKIPPED cosine distribution (taking more than 30 seconds)\n",
      "SKIPPED chi2 distribution (taking more than 30 seconds)\n",
      "Fitting 110 distributions:  12%|█▏        | 13/110 [01:01<06:07,  3.79s/it]SKIPPED crystalball distribution (taking more than 30 seconds)\n",
      "SKIPPED dgamma distribution (taking more than 30 seconds)\n",
      "Fitting 110 distributions:  15%|█▍        | 16/110 [01:01<02:59,  1.91s/it]SKIPPED dweibull distribution (taking more than 30 seconds)\n",
      "Fitting 110 distributions:  16%|█▋        | 18/110 [01:01<02:01,  1.32s/it]SKIPPED erlang distribution (taking more than 30 seconds)\n",
      "Fitting 110 distributions:  17%|█▋        | 19/110 [01:20<02:00,  1.32s/it]SKIPPED exponnorm distribution (taking more than 30 seconds)\n",
      "Fitting 110 distributions:  18%|█▊        | 20/110 [01:31<08:22,  5.58s/it]SKIPPED exponpow distribution (taking more than 30 seconds)\n",
      "Fitting 110 distributions:  19%|█▉        | 21/110 [01:31<06:47,  4.58s/it]SKIPPED exponweib distribution (taking more than 30 seconds)\n",
      "Fitting 110 distributions:  20%|██        | 22/110 [01:31<05:21,  3.65s/it]SKIPPED f distribution (taking more than 30 seconds)\n",
      "SKIPPED fatiguelife distribution (taking more than 30 seconds)\n",
      "SKIPPED fisk distribution (taking more than 30 seconds)\n",
      "Fitting 110 distributions:  22%|██▏       | 24/110 [01:31<03:19,  2.32s/it]SKIPPED foldcauchy distribution (taking more than 30 seconds)\n",
      "Fitting 110 distributions:  24%|██▎       | 26/110 [01:32<02:10,  1.55s/it]SKIPPED foldnorm distribution (taking more than 30 seconds)\n",
      "Fitting 110 distributions:  25%|██▍       | 27/110 [01:42<04:33,  3.30s/it]SKIPPED gamma distribution (taking more than 30 seconds)\n",
      "Fitting 110 distributions:  25%|██▌       | 28/110 [02:01<09:17,  6.80s/it]SKIPPED gausshyper distribution (taking more than 30 seconds)\n",
      "Fitting 110 distributions:  26%|██▋       | 29/110 [02:01<07:00,  5.19s/it]SKIPPED genexpon distribution (taking more than 30 seconds)\n",
      "Fitting 110 distributions:  27%|██▋       | 30/110 [02:01<05:11,  3.90s/it]SKIPPED genextreme distribution (taking more than 30 seconds)\n",
      "SKIPPED gengamma distribution (taking more than 30 seconds)\n",
      "Fitting 110 distributions:  28%|██▊       | 31/110 [02:01<03:48,  2.90s/it]SKIPPED genhalflogistic distribution (taking more than 30 seconds)\n",
      "Fitting 110 distributions:  29%|██▉       | 32/110 [02:02<02:47,  2.15s/it]SKIPPED genhyperbolic distribution (taking more than 30 seconds)\n",
      "Fitting 110 distributions:  33%|███▎      | 36/110 [02:08<02:25,  1.97s/it]SKIPPED geninvgauss distribution (taking more than 30 seconds)\n",
      "Fitting 110 distributions:  34%|███▎      | 37/110 [02:12<03:16,  2.69s/it]SKIPPED genlogistic distribution (taking more than 30 seconds)\n",
      "Fitting 110 distributions:  35%|███▍      | 38/110 [02:31<09:04,  7.56s/it]SKIPPED gennorm distribution (taking more than 30 seconds)\n",
      "SKIPPED genpareto distribution (taking more than 30 seconds)\n",
      "SKIPPED gilbrat distribution (taking more than 30 seconds)\n",
      "Fitting 110 distributions:  36%|███▋      | 40/110 [02:31<04:51,  4.17s/it]SKIPPED gibrat distribution (taking more than 30 seconds)\n",
      "Fitting 110 distributions:  37%|███▋      | 41/110 [02:32<03:39,  3.18s/it]SKIPPED gompertz distribution (taking more than 30 seconds)\n",
      "Fitting 110 distributions:  39%|███▉      | 43/110 [02:32<02:06,  1.89s/it]SKIPPED halfcauchy distribution (taking more than 30 seconds)\n",
      "Fitting 110 distributions:  40%|████      | 44/110 [02:38<03:05,  2.82s/it]SKIPPED halfgennorm distribution (taking more than 30 seconds)\n",
      "Fitting 110 distributions:  42%|████▏     | 46/110 [02:47<03:49,  3.58s/it]SKIPPED halflogistic distribution (taking more than 30 seconds)\n",
      "Fitting 110 distributions:  43%|████▎     | 47/110 [03:01<06:51,  6.54s/it]SKIPPED halfnorm distribution (taking more than 30 seconds)\n",
      "Fitting 110 distributions:  44%|████▎     | 48/110 [03:01<04:54,  4.75s/it]SKIPPED invgamma distribution (taking more than 30 seconds)\n",
      "SKIPPED invgauss distribution (taking more than 30 seconds)\n",
      "Fitting 110 distributions:  45%|████▍     | 49/110 [03:02<03:33,  3.51s/it]SKIPPED invweibull distribution (taking more than 30 seconds)\n",
      "Fitting 110 distributions:  45%|████▌     | 50/110 [03:02<02:32,  2.54s/it]SKIPPED kstwo distribution (taking more than 30 seconds)\n",
      "Fitting 110 distributions:  48%|████▊     | 53/110 [03:03<01:10,  1.23s/it]SKIPPED johnsonsb distribution (taking more than 30 seconds)\n",
      "Fitting 110 distributions:  49%|████▉     | 54/110 [03:08<02:04,  2.22s/it]SKIPPED johnsonsu distribution (taking more than 30 seconds)\n",
      "Fitting 110 distributions:  50%|█████     | 55/110 [03:12<02:34,  2.80s/it]SKIPPED kappa3 distribution (taking more than 30 seconds)\n",
      "Fitting 110 distributions:  53%|█████▎    | 58/110 [03:31<04:10,  4.83s/it]SKIPPED kappa4 distribution (taking more than 30 seconds)\n",
      "Fitting 110 distributions:  54%|█████▎    | 59/110 [03:31<02:56,  3.47s/it]SKIPPED ksone distribution (taking more than 30 seconds)\n",
      "Fitting 110 distributions:  55%|█████▍    | 60/110 [03:32<02:06,  2.52s/it]SKIPPED laplace_asymmetric distribution (taking more than 30 seconds)\n",
      "Fitting 110 distributions:  55%|█████▌    | 61/110 [03:33<01:41,  2.08s/it]SKIPPED levy distribution (taking more than 30 seconds)\n",
      "Fitting 110 distributions:  56%|█████▋    | 62/110 [03:33<01:13,  1.52s/it]SKIPPED loguniform distribution (taking more than 30 seconds)\n",
      "Fitting 110 distributions:  57%|█████▋    | 63/110 [03:33<00:56,  1.20s/it]SKIPPED levy_l distribution (taking more than 30 seconds)\n",
      "Fitting 110 distributions:  58%|█████▊    | 64/110 [03:38<01:43,  2.25s/it]SKIPPED levy_stable distribution (taking more than 30 seconds)\n",
      "Fitting 110 distributions:  59%|█████▉    | 65/110 [03:42<02:09,  2.88s/it]SKIPPED loggamma distribution (taking more than 30 seconds)\n",
      "Fitting 110 distributions:  60%|██████    | 66/110 [03:47<02:29,  3.41s/it]SKIPPED loglaplace distribution (taking more than 30 seconds)\n",
      "Fitting 110 distributions:  61%|██████    | 67/110 [04:01<04:47,  6.68s/it]SKIPPED lognorm distribution (taking more than 30 seconds)\n",
      "Fitting 110 distributions:  62%|██████▏   | 68/110 [04:02<03:18,  4.73s/it]SKIPPED lomax distribution (taking more than 30 seconds)\n",
      "Fitting 110 distributions:  63%|██████▎   | 69/110 [04:03<02:30,  3.68s/it]SKIPPED maxwell distribution (taking more than 30 seconds)\n",
      "Fitting 110 distributions:  64%|██████▎   | 70/110 [04:03<01:45,  2.65s/it]SKIPPED mielke distribution (taking more than 30 seconds)\n",
      "Fitting 110 distributions:  66%|██████▋   | 73/110 [04:07<01:11,  1.95s/it]SKIPPED nakagami distribution (taking more than 30 seconds)\n",
      "Fitting 110 distributions:  68%|██████▊   | 75/110 [04:14<01:35,  2.73s/it]SKIPPED ncf distribution (taking more than 30 seconds)\n",
      "Fitting 110 distributions:  71%|███████   | 78/110 [04:23<01:33,  2.93s/it]SKIPPED nct distribution (taking more than 30 seconds)\n",
      "SKIPPED ncx2 distribution (taking more than 30 seconds)\n",
      "Fitting 110 distributions:  72%|███████▏  | 79/110 [04:32<02:27,  4.75s/it]SKIPPED norminvgauss distribution (taking more than 30 seconds)\n",
      "Fitting 110 distributions:  74%|███████▎  | 81/110 [04:33<01:25,  2.95s/it]SKIPPED rv_continuous distribution (taking more than 30 seconds)\n",
      "Fitting 110 distributions:  75%|███████▍  | 82/110 [04:33<01:03,  2.26s/it]SKIPPED rv_histogram distribution (taking more than 30 seconds)\n",
      "Fitting 110 distributions:  75%|███████▌  | 83/110 [04:34<00:46,  1.71s/it]SKIPPED reciprocal distribution (taking more than 30 seconds)\n",
      "SKIPPED pearson3 distribution (taking more than 30 seconds)\n",
      "Fitting 110 distributions:  77%|███████▋  | 85/110 [04:34<00:24,  1.02it/s]SKIPPED powerlognorm distribution (taking more than 30 seconds)\n",
      "Fitting 110 distributions:  78%|███████▊  | 86/110 [04:43<01:16,  3.21s/it]SKIPPED powernorm distribution (taking more than 30 seconds)\n",
      "Fitting 110 distributions:  79%|███████▉  | 87/110 [04:45<01:04,  2.81s/it]SKIPPED rdist distribution (taking more than 30 seconds)\n",
      "Fitting 110 distributions:  80%|████████  | 88/110 [04:48<01:03,  2.89s/it]SKIPPED recipinvgauss distribution (taking more than 30 seconds)\n",
      "Fitting 110 distributions:  81%|████████  | 89/110 [04:53<01:13,  3.51s/it]SKIPPED rice distribution (taking more than 30 seconds)\n",
      "Fitting 110 distributions:  82%|████████▏ | 90/110 [05:02<01:44,  5.20s/it]SKIPPED semicircular distribution (taking more than 30 seconds)\n",
      "SKIPPED skewcauchy distribution (taking more than 30 seconds)\n",
      "Fitting 110 distributions:  83%|████████▎ | 91/110 [05:04<01:20,  4.22s/it]SKIPPED skewnorm distribution (taking more than 30 seconds)\n",
      "Fitting 110 distributions:  84%|████████▎ | 92/110 [05:04<00:55,  3.08s/it]SKIPPED studentized_range distribution (taking more than 30 seconds)\n",
      "Fitting 110 distributions:  85%|████████▌ | 94/110 [05:13<00:58,  3.66s/it]SKIPPED t distribution (taking more than 30 seconds)\n",
      "Fitting 110 distributions:  86%|████████▋ | 95/110 [05:15<00:48,  3.20s/it]SKIPPED trapezoid distribution (taking more than 30 seconds)\n",
      "Fitting 110 distributions:  88%|████████▊ | 97/110 [05:19<00:35,  2.70s/it]SKIPPED trapz distribution (taking more than 30 seconds)\n",
      "Fitting 110 distributions:  89%|████████▉ | 98/110 [05:23<00:35,  2.95s/it]/home/thalis/repositories/TCC/venv/lib/python3.8/site-packages/scipy/integrate/_quadpack_py.py:1225: IntegrationWarning: The maximum number of subdivisions (50) has been achieved.\n",
      "  If increasing the limit yields no improvement it is advised to analyze \n",
      "  the integrand in order to determine the difficulties.  If the position of a \n",
      "  local difficulty can be determined (singularity, discontinuity) one will \n",
      "  probably gain from splitting up the interval and calling the integrator \n",
      "  on the subranges.  Perhaps a special-purpose integrator should be used.\n",
      "  quad_r = quad(f, low, high, args=args, full_output=self.full_output,\n",
      "SKIPPED triang distribution (taking more than 30 seconds)\n",
      "Fitting 110 distributions:  90%|█████████ | 99/110 [05:32<00:52,  4.73s/it]SKIPPED truncexpon distribution (taking more than 30 seconds)\n",
      "Fitting 110 distributions:  91%|█████████ | 100/110 [05:34<00:39,  3.90s/it]SKIPPED truncnorm distribution (taking more than 30 seconds)\n",
      "SKIPPED truncpareto distribution (taking more than 30 seconds)\n",
      "Fitting 110 distributions:  93%|█████████▎| 102/110 [05:34<00:16,  2.07s/it]SKIPPED truncweibull_min distribution (taking more than 30 seconds)\n",
      "Fitting 110 distributions:  94%|█████████▎| 103/110 [05:43<00:28,  4.02s/it]SKIPPED tukeylambda distribution (taking more than 30 seconds)\n",
      "Fitting 110 distributions:  95%|█████████▍| 104/110 [05:45<00:20,  3.35s/it]SKIPPED vonmises distribution (taking more than 30 seconds)\n",
      "Fitting 110 distributions:  95%|█████████▌| 105/110 [05:49<00:18,  3.69s/it]SKIPPED vonmises_line distribution (taking more than 30 seconds)\n",
      "Fitting 110 distributions:  96%|█████████▋| 106/110 [05:53<00:14,  3.70s/it]SKIPPED wald distribution (taking more than 30 seconds)\n",
      "Fitting 110 distributions:  97%|█████████▋| 107/110 [06:02<00:16,  5.38s/it]SKIPPED weibull_max distribution (taking more than 30 seconds)\n",
      "Fitting 110 distributions:  98%|█████████▊| 108/110 [06:04<00:08,  4.26s/it]SKIPPED weibull_min distribution (taking more than 30 seconds)\n",
      "Fitting 110 distributions:  99%|█████████▉| 109/110 [06:04<00:03,  3.12s/it]SKIPPED wrapcauchy distribution (taking more than 30 seconds)\n",
      "Fitting 110 distributions: 100%|██████████| 110/110 [06:05<00:00,  3.32s/it]\n"
     ]
    },
    {
     "data": {
      "text/plain": [
       "0.0"
      ]
     },
     "execution_count": 11,
     "metadata": {},
     "output_type": "execute_result"
    },
    {
     "name": "stderr",
     "output_type": "stream",
     "text": [
      "/home/thalis/repositories/TCC/venv/lib/python3.8/site-packages/scipy/integrate/_quadpack_py.py:1225: IntegrationWarning: The integral is probably divergent, or slowly convergent.\n",
      "  quad_r = quad(f, low, high, args=args, full_output=self.full_output,\n"
     ]
    }
   ],
   "source": [
    "np.mean([i>=.01 for i in get_fitted_ks_values(stream_ln)])"
   ]
  },
  {
   "cell_type": "code",
   "execution_count": 6,
   "metadata": {},
   "outputs": [],
   "source": [
    "def get_file_names():\n",
    "    files = []\n",
    "    days = range(1, 23) # 1, 32\n",
    "    months = range(1, 2) #1, 3\n",
    "    for month in months:\n",
    "        month_2_digits = '{month:02}'.format(month=month)\n",
    "        path = './COVID19_Tweets_Dataset_2020/Summary_Sentiment/2020_' + month_2_digits + '/'\n",
    "\n",
    "        for day in days:\n",
    "            if month == 2 and day > 29:\n",
    "                continue\n",
    "            if month == 1 and day < 22:\n",
    "                continue\n",
    "\n",
    "            for hour in range(24):\n",
    "                file_name = path + f'2020_{month_2_digits}_' + '{day:02}'.format(day=day) + '_{hour:02}'.format(hour=hour) + '_Summary_Sentiment.csv'\n",
    "                files.append(file_name)\n",
    "\n",
    "    return files"
   ]
  },
  {
   "cell_type": "code",
   "execution_count": 60,
   "metadata": {},
   "outputs": [],
   "source": [
    "def get_dist_obj(dist, param):\n",
    "    if dist == 'gamma':\n",
    "        return scipy.stats.gamma(**param)\n",
    "    if dist == 'rayleigh':\n",
    "        return scipy.stats.rayleigh(**param)\n",
    "    if dist == 'uniform':\n",
    "        return scipy.stats.uniform(**param)"
   ]
  },
  {
   "cell_type": "code",
   "execution_count": null,
   "metadata": {},
   "outputs": [],
   "source": [
    "methods, methods_drifts, methods_times, methods_colors = get_methods(distribution, num_bins=10**3, min_instances=0)\n",
    "         \n",
    "for m in methods:\n",
    "    start = time.time()\n",
    "    for i, x in enumerate(stream_ln):\n",
    "        methods[m].add_element(x)\n",
    "        if methods[m].detected_change():\n",
    "            methods_drifts[m].append(i)\n",
    "            methods[m].reset()\n",
    "    methods_times[m] = methods_times[m] + time.time() - start\n",
    "\n",
    "print('Number of tweets processed: ', len(stream_ln))"
   ]
  },
  {
   "cell_type": "code",
   "execution_count": 68,
   "metadata": {},
   "outputs": [],
   "source": [
    "def rs_builder(ref_distrib, num_bins):\n",
    "    return ReservoirSampling(num_bins, ref_distrib)\n",
    "\n",
    "def gks_builder(ref_distrib, num_bins):\n",
    "    return GreedyKS(ref_distrib, num_bins, exact_prob=True)\n",
    "\n",
    "# def dds_builder(ref_distrib, num_bins, stream):\n",
    "#     return LallDDSketch(compute_ddsketch_error(stream, num_bins), ref_distrib)\n",
    "\n",
    "# def iks_builder(ref_distrib, num_bins, stream):\n",
    "#     return IksReservoir(num_bins, ref_distrib)\n",
    "\n",
    "method_factory = {\n",
    "    'Reservoir Sampling': rs_builder,\n",
    "    'GreedyKS': gks_builder,\n",
    "    # 'Lall + DDSketch': dds_builder,\n",
    "    # 'IKS + RS': iks_builder,\n",
    "}\n",
    "\n",
    "methods = ['GreedyKS', 'Reservoir Sampling']#, 'IKS + RS', 'Lall + DDSketch']"
   ]
  },
  {
   "cell_type": "code",
   "execution_count": 76,
   "metadata": {},
   "outputs": [],
   "source": [
    "def run(num_bins):\n",
    "    files = get_file_names()\n",
    "    instances_methods = {}\n",
    "    time = 0\n",
    "    methods_drifts = {\n",
    "        \"page hinkley\" : [],\n",
    "        \"GreedyKS\" : [],\n",
    "        \"Reservoir Sampling\" : [],\n",
    "    }\n",
    "\n",
    "    for file in files:\n",
    "\n",
    "        sample = pd.read_csv(file)['Logits_Negative']\n",
    "\n",
    "        f = Fitter(sample, distributions=[\"gamma\", \"rayleigh\", \"uniform\"])\n",
    "        f.fit()\n",
    "        best_fitted = f.get_best()\n",
    "        dist = get_dist_obj(list(best_fitted.keys())[0], list(best_fitted.values())[0])\n",
    "        \n",
    "        for element in sample:\n",
    "            time += 1\n",
    "            for m in methods:\n",
    "                if m in instances_methods:\n",
    "                    instances_methods[m].add_element(element)\n",
    "                    if instances_methods[m].detected_change():\n",
    "                        methods_drifts[m].append(time)\n",
    "                        del instances_methods[m]\n",
    "\n",
    "        for m in methods:\n",
    "            if m not in instances_methods:\n",
    "                instances_methods[m] = method_factory[m](dist, num_bins)\n",
    "                for element in sample:\n",
    "                    # print(methods)\n",
    "                    # print(m)\n",
    "                    instances_methods[m].add_element(element)\n",
    "\n",
    "    return methods_drifts\n",
    "        \n",
    "\n"
   ]
  },
  {
   "cell_type": "code",
   "execution_count": 77,
   "metadata": {},
   "outputs": [
    {
     "name": "stderr",
     "output_type": "stream",
     "text": [
      "Fitting 3 distributions: 100%|██████████| 3/3 [00:00<00:00, 82.68it/s]\n",
      "Fitting 3 distributions: 100%|██████████| 3/3 [00:00<00:00, 39.29it/s]\n",
      "Fitting 3 distributions: 100%|██████████| 3/3 [00:00<00:00, 44.76it/s]\n",
      "Fitting 3 distributions: 100%|██████████| 3/3 [00:00<00:00, 93.82it/s]\n",
      "Fitting 3 distributions: 100%|██████████| 3/3 [00:00<00:00, 118.88it/s]\n",
      "Fitting 3 distributions: 100%|██████████| 3/3 [00:00<00:00, 102.62it/s]\n",
      "Fitting 3 distributions: 100%|██████████| 3/3 [00:00<00:00, 86.58it/s]\n",
      "Fitting 3 distributions: 100%|██████████| 3/3 [00:00<00:00, 89.53it/s]\n",
      "Fitting 3 distributions: 100%|██████████| 3/3 [00:00<00:00, 73.31it/s]\n",
      "Fitting 3 distributions: 100%|██████████| 3/3 [00:00<00:00, 68.55it/s]\n",
      "Fitting 3 distributions: 100%|██████████| 3/3 [00:00<00:00, 61.21it/s]\n",
      "Fitting 3 distributions: 100%|██████████| 3/3 [00:00<00:00, 86.21it/s]\n",
      "Fitting 3 distributions: 100%|██████████| 3/3 [00:00<00:00, 84.39it/s]\n",
      "Fitting 3 distributions: 100%|██████████| 3/3 [00:00<00:00, 56.79it/s]\n",
      "Fitting 3 distributions: 100%|██████████| 3/3 [00:00<00:00, 35.19it/s]\n",
      "Fitting 3 distributions: 100%|██████████| 3/3 [00:00<00:00, 31.99it/s]\n",
      "Fitting 3 distributions: 100%|██████████| 3/3 [00:00<00:00, 40.31it/s]\n",
      "Fitting 3 distributions: 100%|██████████| 3/3 [00:00<00:00, 44.84it/s]\n",
      "Fitting 3 distributions: 100%|██████████| 3/3 [00:00<00:00, 30.71it/s]\n",
      "Fitting 3 distributions: 100%|██████████| 3/3 [00:00<00:00, 26.18it/s]\n",
      "Fitting 3 distributions: 100%|██████████| 3/3 [00:00<00:00, 27.66it/s]\n",
      "Fitting 3 distributions: 100%|██████████| 3/3 [00:00<00:00, 30.56it/s]\n",
      "Fitting 3 distributions: 100%|██████████| 3/3 [00:00<00:00, 28.21it/s]\n",
      "Fitting 3 distributions: 100%|██████████| 3/3 [00:00<00:00, 28.37it/s]\n"
     ]
    },
    {
     "data": {
      "text/plain": [
       "{'page hinkley': [],\n",
       " 'GreedyKS': [273,\n",
       "  576,\n",
       "  716,\n",
       "  986,\n",
       "  1259,\n",
       "  1763,\n",
       "  2227,\n",
       "  2864,\n",
       "  3833,\n",
       "  4854,\n",
       "  6081,\n",
       "  7539,\n",
       "  9450,\n",
       "  11357,\n",
       "  13237,\n",
       "  16408,\n",
       "  20827,\n",
       "  25502,\n",
       "  29323,\n",
       "  32833],\n",
       " 'Reservoir Sampling': [2256, 14613, 17256, 24679, 25871]}"
      ]
     },
     "execution_count": 77,
     "metadata": {},
     "output_type": "execute_result"
    }
   ],
   "source": [
    "run(100)"
   ]
  },
  {
   "cell_type": "code",
   "execution_count": 19,
   "metadata": {},
   "outputs": [
    {
     "ename": "KeyboardInterrupt",
     "evalue": "",
     "output_type": "error",
     "traceback": [
      "\u001b[0;31m---------------------------------------------------------------------------\u001b[0m",
      "\u001b[0;31mKeyboardInterrupt\u001b[0m                         Traceback (most recent call last)",
      "Cell \u001b[0;32mIn[19], line 10\u001b[0m\n\u001b[1;32m      8\u001b[0m \u001b[39mfor\u001b[39;00m i, x \u001b[39min\u001b[39;00m \u001b[39menumerate\u001b[39m(stream_ln):\n\u001b[1;32m      9\u001b[0m     methods[m]\u001b[39m.\u001b[39madd_element(x)\n\u001b[0;32m---> 10\u001b[0m     \u001b[39mif\u001b[39;00m methods[m]\u001b[39m.\u001b[39;49mdetected_change():\n\u001b[1;32m     11\u001b[0m         methods_drifts[m]\u001b[39m.\u001b[39mappend(i)\n\u001b[1;32m     12\u001b[0m         methods[m]\u001b[39m.\u001b[39mreset()\n",
      "File \u001b[0;32m~/repositories/TCC/venv/lib/python3.8/site-packages/driftwatch/greedyks.py:79\u001b[0m, in \u001b[0;36mGreedyKS.detected_change\u001b[0;34m(self)\u001b[0m\n\u001b[1;32m     76\u001b[0m D \u001b[39m=\u001b[39m \u001b[39mself\u001b[39m\u001b[39m.\u001b[39mget_D()\n\u001b[1;32m     78\u001b[0m \u001b[39mif\u001b[39;00m \u001b[39mself\u001b[39m\u001b[39m.\u001b[39mexact_prob:\n\u001b[0;32m---> 79\u001b[0m     prob \u001b[39m=\u001b[39m kstwo\u001b[39m.\u001b[39;49msf(D, \u001b[39mself\u001b[39;49m\u001b[39m.\u001b[39;49mn)\n\u001b[1;32m     81\u001b[0m \u001b[39melse\u001b[39;00m:\n\u001b[1;32m     82\u001b[0m     prob \u001b[39m=\u001b[39m kstwobign\u001b[39m.\u001b[39msf(D \u001b[39m*\u001b[39m \u001b[39mself\u001b[39m\u001b[39m.\u001b[39mn\u001b[39m*\u001b[39m\u001b[39m*\u001b[39m\u001b[39m.5\u001b[39m)\n",
      "File \u001b[0;32m~/repositories/TCC/venv/lib/python3.8/site-packages/scipy/stats/_distn_infrastructure.py:2269\u001b[0m, in \u001b[0;36mrv_continuous.sf\u001b[0;34m(self, x, *args, **kwds)\u001b[0m\n\u001b[1;32m   2267\u001b[0m \u001b[39mif\u001b[39;00m np\u001b[39m.\u001b[39many(cond):\n\u001b[1;32m   2268\u001b[0m     goodargs \u001b[39m=\u001b[39m argsreduce(cond, \u001b[39m*\u001b[39m((x,)\u001b[39m+\u001b[39margs))\n\u001b[0;32m-> 2269\u001b[0m     place(output, cond, \u001b[39mself\u001b[39;49m\u001b[39m.\u001b[39;49m_sf(\u001b[39m*\u001b[39;49mgoodargs))\n\u001b[1;32m   2270\u001b[0m \u001b[39mif\u001b[39;00m output\u001b[39m.\u001b[39mndim \u001b[39m==\u001b[39m \u001b[39m0\u001b[39m:\n\u001b[1;32m   2271\u001b[0m     \u001b[39mreturn\u001b[39;00m output[()]\n",
      "File \u001b[0;32m~/repositories/TCC/venv/lib/python3.8/site-packages/scipy/stats/_continuous_distns.py:210\u001b[0m, in \u001b[0;36mkstwo_gen._sf\u001b[0;34m(self, x, n)\u001b[0m\n\u001b[1;32m    209\u001b[0m \u001b[39mdef\u001b[39;00m \u001b[39m_sf\u001b[39m(\u001b[39mself\u001b[39m, x, n):\n\u001b[0;32m--> 210\u001b[0m     \u001b[39mreturn\u001b[39;00m kolmogn(n, x, cdf\u001b[39m=\u001b[39;49m\u001b[39mFalse\u001b[39;49;00m)\n",
      "File \u001b[0;32m~/repositories/TCC/venv/lib/python3.8/site-packages/scipy/stats/_ksstats.py:533\u001b[0m, in \u001b[0;36mkolmogn\u001b[0;34m(n, x, cdf)\u001b[0m\n\u001b[1;32m    531\u001b[0m     \u001b[39mif\u001b[39;00m \u001b[39mint\u001b[39m(_n) \u001b[39m!=\u001b[39m _n:\n\u001b[1;32m    532\u001b[0m         \u001b[39mraise\u001b[39;00m \u001b[39mValueError\u001b[39;00m(\u001b[39mf\u001b[39m\u001b[39m'\u001b[39m\u001b[39mn is not integral: \u001b[39m\u001b[39m{\u001b[39;00m_n\u001b[39m}\u001b[39;00m\u001b[39m'\u001b[39m)\n\u001b[0;32m--> 533\u001b[0m     z[\u001b[39m.\u001b[39m\u001b[39m.\u001b[39m\u001b[39m.\u001b[39m] \u001b[39m=\u001b[39m _kolmogn(\u001b[39mint\u001b[39;49m(_n), _x, cdf\u001b[39m=\u001b[39;49m_cdf)\n\u001b[1;32m    534\u001b[0m result \u001b[39m=\u001b[39m it\u001b[39m.\u001b[39moperands[\u001b[39m-\u001b[39m\u001b[39m1\u001b[39m]\n\u001b[1;32m    535\u001b[0m \u001b[39mreturn\u001b[39;00m result\n",
      "File \u001b[0;32m~/repositories/TCC/venv/lib/python3.8/site-packages/scipy/stats/_ksstats.py:410\u001b[0m, in \u001b[0;36m_kolmogn\u001b[0;34m(n, x, cdf)\u001b[0m\n\u001b[1;32m    408\u001b[0m     \u001b[39mreturn\u001b[39;00m _select_and_clip_prob(prob, \u001b[39m1.0\u001b[39m \u001b[39m-\u001b[39m prob, cdf\u001b[39m=\u001b[39mcdf)\n\u001b[1;32m    409\u001b[0m \u001b[39mif\u001b[39;00m nxsquared \u001b[39m<\u001b[39m\u001b[39m=\u001b[39m \u001b[39m4\u001b[39m:\n\u001b[0;32m--> 410\u001b[0m     prob \u001b[39m=\u001b[39m _kolmogn_Pomeranz(n, x, cdf\u001b[39m=\u001b[39;49m\u001b[39mTrue\u001b[39;49;00m)\n\u001b[1;32m    411\u001b[0m     \u001b[39mreturn\u001b[39;00m _select_and_clip_prob(prob, \u001b[39m1.0\u001b[39m \u001b[39m-\u001b[39m prob, cdf\u001b[39m=\u001b[39mcdf)\n\u001b[1;32m    412\u001b[0m \u001b[39m# Now use Miller approximation of 2*smirnov\u001b[39;00m\n",
      "File \u001b[0;32m~/repositories/TCC/venv/lib/python3.8/site-packages/scipy/stats/_ksstats.py:265\u001b[0m, in \u001b[0;36m_kolmogn_Pomeranz\u001b[0;34m(n, x, cdf)\u001b[0m\n\u001b[1;32m    263\u001b[0m ln2 \u001b[39m=\u001b[39m j2 \u001b[39m-\u001b[39m k1 \u001b[39m+\u001b[39m \u001b[39m1\u001b[39m\n\u001b[1;32m    264\u001b[0m \u001b[39mif\u001b[39;00m ln2 \u001b[39m>\u001b[39m \u001b[39m0\u001b[39m:\n\u001b[0;32m--> 265\u001b[0m     conv \u001b[39m=\u001b[39m np\u001b[39m.\u001b[39;49mconvolve(V0[k1 \u001b[39m-\u001b[39;49m V0s:k1 \u001b[39m-\u001b[39;49m V0s \u001b[39m+\u001b[39;49m ln2], pwrs[:ln2])\n\u001b[1;32m    266\u001b[0m     conv_start \u001b[39m=\u001b[39m j1 \u001b[39m-\u001b[39m k1  \u001b[39m# First index to use from conv\u001b[39;00m\n\u001b[1;32m    267\u001b[0m     conv_len \u001b[39m=\u001b[39m j2 \u001b[39m-\u001b[39m j1 \u001b[39m+\u001b[39m \u001b[39m1\u001b[39m  \u001b[39m# Number of entries to use from conv\u001b[39;00m\n",
      "File \u001b[0;32m<__array_function__ internals>:200\u001b[0m, in \u001b[0;36mconvolve\u001b[0;34m(*args, **kwargs)\u001b[0m\n",
      "File \u001b[0;32m~/repositories/TCC/venv/lib/python3.8/site-packages/numpy/core/numeric.py:851\u001b[0m, in \u001b[0;36mconvolve\u001b[0;34m(a, v, mode)\u001b[0m\n\u001b[1;32m    849\u001b[0m \u001b[39mif\u001b[39;00m \u001b[39mlen\u001b[39m(v) \u001b[39m==\u001b[39m \u001b[39m0\u001b[39m:\n\u001b[1;32m    850\u001b[0m     \u001b[39mraise\u001b[39;00m \u001b[39mValueError\u001b[39;00m(\u001b[39m'\u001b[39m\u001b[39mv cannot be empty\u001b[39m\u001b[39m'\u001b[39m)\n\u001b[0;32m--> 851\u001b[0m \u001b[39mreturn\u001b[39;00m multiarray\u001b[39m.\u001b[39;49mcorrelate(a, v[::\u001b[39m-\u001b[39;49m\u001b[39m1\u001b[39;49m], mode)\n",
      "\u001b[0;31mKeyboardInterrupt\u001b[0m: "
     ]
    }
   ],
   "source": [
    "# distribution = exponnorm(5.025553216466441, loc=-1.1327249541070226, scale=0.2032867510140243)\n",
    "distribution = gennorm(*f_neg.fitted_param['gennorm'])\n",
    "\n",
    "methods, methods_drifts, methods_times, methods_colors = get_methods(distribution, num_bins=10**3, min_instances=0)\n",
    "         \n",
    "for m in methods:\n",
    "    start = time.time()\n",
    "    for i, x in enumerate(stream_ln):\n",
    "        methods[m].add_element(x)\n",
    "        if methods[m].detected_change():\n",
    "            methods_drifts[m].append(i)\n",
    "            methods[m].reset()\n",
    "    methods_times[m] = methods_times[m] + time.time() - start\n",
    "\n",
    "print('Number of tweets processed: ', len(stream_ln))"
   ]
  },
  {
   "cell_type": "code",
   "execution_count": null,
   "metadata": {},
   "outputs": [
    {
     "data": {
      "text/plain": [
       "{'page hinkley': 0.25894808769226074,\n",
       " 'greedyKS': 64.47171211242676,\n",
       " 'reservoir sampling': 519.1544232368469}"
      ]
     },
     "execution_count": 10,
     "metadata": {},
     "output_type": "execute_result"
    }
   ],
   "source": [
    "methods_times"
   ]
  },
  {
   "cell_type": "code",
   "execution_count": 11,
   "metadata": {},
   "outputs": [
    {
     "name": "stdout",
     "output_type": "stream",
     "text": [
      "Reservoir S  9793\n",
      "GreedyKS  9769\n",
      "Page hinkley  14\n"
     ]
    }
   ],
   "source": [
    "print('Reservoir S ', len(methods_drifts['reservoir sampling']))\n",
    "print('GreedyKS ', len(methods_drifts['greedyKS']))\n",
    "print('Page hinkley ', len(methods_drifts['page hinkley']))\n"
   ]
  },
  {
   "cell_type": "code",
   "execution_count": 13,
   "metadata": {},
   "outputs": [
    {
     "data": {
      "image/png": "[encoded data removed]",
      "text/plain": [
       "<Figure size 640x480 with 1 Axes>"
      ]
     },
     "metadata": {},
     "output_type": "display_data"
    }
   ],
   "source": [
    "rolling_mean = stream_ln.rolling(len(stream_ln)//10, min_periods=0).mean()\n",
    "\n",
    "# plt.figure(figsize=(5,3.5))\n",
    "plt.plot(rolling_mean, linewidth=1)\n",
    "\n",
    "for m in methods_drifts:\n",
    "    if m != 'page hinkley':\n",
    "        continue\n",
    "    for d in methods_drifts[m]:\n",
    "        plt.axvline(x = d, color = methods_colors[m], linewidth=0.9, label=m)\n",
    "\n",
    "\n",
    "\n",
    "\n",
    "plt.title('Drifts showed according rolling mean')\n",
    "# plt.legend()\n",
    "plt.xlabel('index')\n",
    "plt.ylabel('rolling mean')\n",
    "plt.grid(True)\n",
    "plt.tight_layout()\n",
    "plt.show()"
   ]
  }
 ],
 "metadata": {
  "kernelspec": {
   "display_name": "venv",
   "language": "python",
   "name": "python3"
  },
  "language_info": {
   "codemirror_mode": {
    "name": "ipython",
    "version": 3
   },
   "file_extension": ".py",
   "mimetype": "text/x-python",
   "name": "python",
   "nbconvert_exporter": "python",
   "pygments_lexer": "ipython3",
   "version": "3.8.10"
  },
  "orig_nbformat": 4,
  "vscode": {
   "interpreter": {
    "hash": "eacde64116501d434fc36353d8e421b6798d96015acf9f09cfdb6234af2c3678"
   }
  }
 },
 "nbformat": 4,
 "nbformat_minor": 2
}
