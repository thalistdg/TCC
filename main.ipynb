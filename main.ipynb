{
 "cells": [
  {
   "cell_type": "code",
   "execution_count": 2,
   "metadata": {},
   "outputs": [],
   "source": [
    "import pandas as pd\n",
    "import matplotlib.pyplot as plt\n",
    "import numpy as np\n",
    "\n",
    "from fitter import Fitter\n",
    "from scipy.stats import exponnorm, erlang, gennorm\n"
   ]
  },
  {
   "cell_type": "code",
   "execution_count": 3,
   "metadata": {},
   "outputs": [],
   "source": [
    "def load_data(column):\n",
    "    stream = []\n",
    "    days = range(1, 23) # 1, 32\n",
    "    months = range(1, 2) #1, 3\n",
    "    for month in months:\n",
    "        month_2_digits = '{month:02}'.format(month=month)\n",
    "        path = './COVID19_Tweets_Dataset_2020/Summary_Sentiment/2020_' + month_2_digits + '/'\n",
    "\n",
    "        for day in days:\n",
    "            if month == 2 and day > 29:\n",
    "                continue\n",
    "            if month == 1 and day < 22:\n",
    "                continue\n",
    "\n",
    "            for hour in range(24):\n",
    "                file_name = path + f'2020_{month_2_digits}_' + '{day:02}'.format(day=day) + '_{hour:02}'.format(hour=hour) + '_Summary_Sentiment.csv'\n",
    "                stream.append(pd.read_csv(file_name)[column])\n",
    "\n",
    "    return pd.concat(stream, ignore_index=True), stream"
   ]
  },
  {
   "cell_type": "code",
   "execution_count": 4,
   "metadata": {},
   "outputs": [],
   "source": [
    "stream_ln, tweets_per_file = load_data('Logits_Negative')"
   ]
  },
  {
   "cell_type": "code",
   "execution_count": 5,
   "metadata": {},
   "outputs": [],
   "source": [
    "def get_fitted_ks_values(data):\n",
    "    f = Fitter(data)\n",
    "    f.fit()\n",
    "    return f.summary(plot=False, clf=False)['ks_pvalue'].values"
   ]
  },
  {
   "cell_type": "code",
   "execution_count": 6,
   "metadata": {},
   "outputs": [
    {
     "name": "stderr",
     "output_type": "stream",
     "text": [
      "Fitting 110 distributions:   0%|          | 0/110 [00:00<?, ?it/s]SKIPPED _fit distribution (taking more than 30 seconds)\n",
      "Fitting 110 distributions:  45%|████▍     | 49/110 [00:05<00:09,  6.51it/s]SKIPPED kstwo distribution (taking more than 30 seconds)\n",
      "Fitting 110 distributions:  57%|█████▋    | 63/110 [00:09<00:11,  4.06it/s]SKIPPED loguniform distribution (taking more than 30 seconds)\n",
      "Fitting 110 distributions:  72%|███████▏  | 79/110 [00:14<00:19,  1.56it/s]SKIPPED reciprocal distribution (taking more than 30 seconds)\n",
      "Fitting 110 distributions:  73%|███████▎  | 80/110 [00:15<00:18,  1.63it/s]SKIPPED rv_continuous distribution (taking more than 30 seconds)\n",
      "SKIPPED rv_histogram distribution (taking more than 30 seconds)\n",
      "Fitting 110 distributions:  96%|█████████▋| 106/110 [00:32<00:03,  1.28it/s]SKIPPED levy_stable distribution (taking more than 30 seconds)\n",
      "Fitting 110 distributions:  97%|█████████▋| 107/110 [00:37<00:05,  1.86s/it]SKIPPED studentized_range distribution (taking more than 30 seconds)\n",
      "Fitting 110 distributions:  98%|█████████▊| 108/110 [00:46<00:08,  4.10s/it]/home/thalis/repositories/TCC/venv/lib/python3.8/site-packages/scipy/integrate/_quadpack_py.py:1225: IntegrationWarning: The maximum number of subdivisions (50) has been achieved.\n",
      "  If increasing the limit yields no improvement it is advised to analyze \n",
      "  the integrand in order to determine the difficulties.  If the position of a \n",
      "  local difficulty can be determined (singularity, discontinuity) one will \n",
      "  probably gain from splitting up the interval and calling the integrator \n",
      "  on the subranges.  Perhaps a special-purpose integrator should be used.\n",
      "  quad_r = quad(f, low, high, args=args, full_output=self.full_output,\n",
      "SKIPPED vonmises distribution (taking more than 30 seconds)\n",
      "Fitting 110 distributions: 100%|██████████| 110/110 [00:56<00:00,  1.94it/s]\n"
     ]
    },
    {
     "data": {
      "text/plain": [
       "1.0"
      ]
     },
     "execution_count": 6,
     "metadata": {},
     "output_type": "execute_result"
    }
   ],
   "source": [
    "ks_values = []\n",
    "for tweets_hour in tweets_per_file:\n",
    "    ks_values.append(get_fitted_ks_values(tweets_hour))\n",
    "    break\n",
    "\n",
    "np.mean([i>=.01 for i in np.concatenate(ks_values)])"
   ]
  },
  {
   "cell_type": "code",
   "execution_count": 7,
   "metadata": {},
   "outputs": [
    {
     "name": "stderr",
     "output_type": "stream",
     "text": [
      "Fitting 110 distributions:   0%|          | 0/110 [00:00<?, ?it/s]SKIPPED _fit distribution (taking more than 30 seconds)\n",
      "Fitting 110 distributions:   1%|          | 1/110 [00:00<00:24,  4.47it/s]/home/thalis/repositories/TCC/venv/lib/python3.8/site-packages/scipy/integrate/_quadpack_py.py:1225: IntegrationWarning: The integral is probably divergent, or slowly convergent.\n",
      "  quad_r = quad(f, low, high, args=args, full_output=self.full_output,\n",
      "Fitting 110 distributions:   5%|▌         | 6/110 [00:26<05:25,  3.13s/it]SKIPPED alpha distribution (taking more than 30 seconds)\n",
      "Fitting 110 distributions:   6%|▋         | 7/110 [00:30<05:38,  3.29s/it]SKIPPED betaprime distribution (taking more than 30 seconds)\n",
      "SKIPPED arcsine distribution (taking more than 30 seconds)\n",
      "SKIPPED burr distribution (taking more than 30 seconds)\n",
      "Fitting 110 distributions:  11%|█         | 12/110 [00:41<03:57,  2.42s/it]SKIPPED burr12 distribution (taking more than 30 seconds)\n",
      "Fitting 110 distributions:  13%|█▎        | 14/110 [00:42<02:36,  1.63s/it]SKIPPED chi distribution (taking more than 30 seconds)\n",
      "Fitting 110 distributions:  15%|█▍        | 16/110 [00:54<04:54,  3.14s/it]SKIPPED chi2 distribution (taking more than 30 seconds)\n",
      "Fitting 110 distributions:  16%|█▋        | 18/110 [00:59<04:28,  2.91s/it]SKIPPED crystalball distribution (taking more than 30 seconds)\n",
      "Fitting 110 distributions:  17%|█▋        | 19/110 [01:00<03:33,  2.34s/it]SKIPPED erlang distribution (taking more than 30 seconds)\n",
      "SKIPPED exponpow distribution (taking more than 30 seconds)\n",
      "Fitting 110 distributions:  19%|█▉        | 21/110 [01:12<05:50,  3.94s/it]SKIPPED exponweib distribution (taking more than 30 seconds)\n",
      "Fitting 110 distributions:  20%|██        | 22/110 [01:12<04:29,  3.06s/it]SKIPPED f distribution (taking more than 30 seconds)\n",
      "Fitting 110 distributions:  21%|██        | 23/110 [01:23<07:36,  5.24s/it]SKIPPED fatiguelife distribution (taking more than 30 seconds)\n",
      "Fitting 110 distributions:  22%|██▏       | 24/110 [01:24<05:39,  3.94s/it]SKIPPED fisk distribution (taking more than 30 seconds)\n",
      "Fitting 110 distributions:  23%|██▎       | 25/110 [01:26<04:43,  3.34s/it]SKIPPED foldcauchy distribution (taking more than 30 seconds)\n",
      "Fitting 110 distributions:  24%|██▎       | 26/110 [01:29<04:39,  3.33s/it]SKIPPED foldnorm distribution (taking more than 30 seconds)\n",
      "Fitting 110 distributions:  25%|██▍       | 27/110 [01:30<03:39,  2.64s/it]SKIPPED gamma distribution (taking more than 30 seconds)\n",
      "Fitting 110 distributions:  25%|██▌       | 28/110 [01:30<02:37,  1.92s/it]SKIPPED gausshyper distribution (taking more than 30 seconds)\n",
      "Fitting 110 distributions:  26%|██▋       | 29/110 [01:42<06:28,  4.80s/it]SKIPPED genexpon distribution (taking more than 30 seconds)\n",
      "Fitting 110 distributions:  28%|██▊       | 31/110 [01:49<05:49,  4.42s/it]SKIPPED genextreme distribution (taking more than 30 seconds)\n",
      "Fitting 110 distributions:  29%|██▉       | 32/110 [01:53<05:53,  4.54s/it]SKIPPED gengamma distribution (taking more than 30 seconds)\n",
      "Fitting 110 distributions:  30%|███       | 33/110 [01:54<04:15,  3.32s/it]SKIPPED genhalflogistic distribution (taking more than 30 seconds)\n",
      "Fitting 110 distributions:  33%|███▎      | 36/110 [01:59<02:39,  2.15s/it]SKIPPED genhyperbolic distribution (taking more than 30 seconds)\n",
      "Fitting 110 distributions:  34%|███▎      | 37/110 [01:59<01:57,  1.61s/it]SKIPPED geninvgauss distribution (taking more than 30 seconds)\n",
      "Fitting 110 distributions:  35%|███▌      | 39/110 [02:02<01:46,  1.49s/it]SKIPPED genpareto distribution (taking more than 30 seconds)\n",
      "Fitting 110 distributions:  36%|███▋      | 40/110 [02:12<04:51,  4.17s/it]SKIPPED gibrat distribution (taking more than 30 seconds)\n",
      "Fitting 110 distributions:  38%|███▊      | 42/110 [02:20<04:15,  3.76s/it]SKIPPED gilbrat distribution (taking more than 30 seconds)\n",
      "Fitting 110 distributions:  39%|███▉      | 43/110 [02:24<04:13,  3.78s/it]SKIPPED gompertz distribution (taking more than 30 seconds)\n",
      "Fitting 110 distributions:  41%|████      | 45/110 [02:27<02:56,  2.72s/it]SKIPPED halfgennorm distribution (taking more than 30 seconds)\n",
      "Fitting 110 distributions:  42%|████▏     | 46/110 [02:29<02:47,  2.62s/it]SKIPPED halflogistic distribution (taking more than 30 seconds)\n",
      "Fitting 110 distributions:  44%|████▎     | 48/110 [02:31<01:43,  1.67s/it]SKIPPED invgamma distribution (taking more than 30 seconds)\n",
      "Fitting 110 distributions:  45%|████▍     | 49/110 [02:49<06:45,  6.65s/it]SKIPPED kstwo distribution (taking more than 30 seconds)\n",
      "Fitting 110 distributions:  45%|████▌     | 50/110 [02:49<04:42,  4.71s/it]SKIPPED invgauss distribution (taking more than 30 seconds)\n",
      "Fitting 110 distributions:  47%|████▋     | 52/110 [02:50<02:33,  2.65s/it]SKIPPED invweibull distribution (taking more than 30 seconds)\n",
      "Fitting 110 distributions:  48%|████▊     | 53/110 [02:54<02:40,  2.82s/it]SKIPPED johnsonsb distribution (taking more than 30 seconds)\n",
      "Fitting 110 distributions:  49%|████▉     | 54/110 [02:54<01:57,  2.10s/it]SKIPPED johnsonsu distribution (taking more than 30 seconds)\n",
      "Fitting 110 distributions:  50%|█████     | 55/110 [02:57<02:04,  2.27s/it]SKIPPED kappa3 distribution (taking more than 30 seconds)\n",
      "Fitting 110 distributions:  51%|█████     | 56/110 [02:59<02:05,  2.32s/it]SKIPPED kappa4 distribution (taking more than 30 seconds)\n",
      "Fitting 110 distributions:  52%|█████▏    | 57/110 [03:00<01:40,  1.89s/it]SKIPPED ksone distribution (taking more than 30 seconds)\n",
      "Fitting 110 distributions:  55%|█████▍    | 60/110 [03:03<01:11,  1.43s/it]SKIPPED loguniform distribution (taking more than 30 seconds)\n",
      "Fitting 110 distributions:  55%|█████▌    | 61/110 [03:05<01:05,  1.34s/it]SKIPPED laplace_asymmetric distribution (taking more than 30 seconds)\n",
      "Fitting 110 distributions:  56%|█████▋    | 62/110 [03:20<04:33,  5.70s/it]SKIPPED levy distribution (taking more than 30 seconds)\n",
      "Fitting 110 distributions:  57%|█████▋    | 63/110 [03:24<03:53,  4.98s/it]SKIPPED levy_l distribution (taking more than 30 seconds)\n",
      "Fitting 110 distributions:  58%|█████▊    | 64/110 [03:24<02:46,  3.61s/it]SKIPPED levy_stable distribution (taking more than 30 seconds)\n",
      "Fitting 110 distributions:  59%|█████▉    | 65/110 [03:27<02:29,  3.32s/it]SKIPPED loggamma distribution (taking more than 30 seconds)\n",
      "Fitting 110 distributions:  60%|██████    | 66/110 [03:29<02:12,  3.01s/it]SKIPPED loglaplace distribution (taking more than 30 seconds)\n",
      "Fitting 110 distributions:  61%|██████    | 67/110 [03:31<01:52,  2.61s/it]SKIPPED lognorm distribution (taking more than 30 seconds)\n",
      "Fitting 110 distributions:  62%|██████▏   | 68/110 [03:32<01:37,  2.32s/it]SKIPPED lomax distribution (taking more than 30 seconds)\n",
      "Fitting 110 distributions:  65%|██████▌   | 72/110 [03:50<02:53,  4.58s/it]SKIPPED maxwell distribution (taking more than 30 seconds)\n",
      "Fitting 110 distributions:  66%|██████▋   | 73/110 [03:50<02:04,  3.37s/it]SKIPPED mielke distribution (taking more than 30 seconds)\n",
      "Fitting 110 distributions:  68%|██████▊   | 75/110 [03:54<01:28,  2.53s/it]SKIPPED nakagami distribution (taking more than 30 seconds)\n",
      "Fitting 110 distributions:  69%|██████▉   | 76/110 [03:57<01:25,  2.53s/it]SKIPPED ncf distribution (taking more than 30 seconds)\n",
      "Fitting 110 distributions:  71%|███████   | 78/110 [04:00<01:00,  1.91s/it]SKIPPED nct distribution (taking more than 30 seconds)\n",
      "Fitting 110 distributions:  72%|███████▏  | 79/110 [04:01<00:50,  1.63s/it]SKIPPED reciprocal distribution (taking more than 30 seconds)\n",
      "SKIPPED ncx2 distribution (taking more than 30 seconds)\n",
      "Fitting 110 distributions:  73%|███████▎  | 80/110 [04:03<00:49,  1.66s/it]SKIPPED rv_continuous distribution (taking more than 30 seconds)\n",
      "SKIPPED rv_histogram distribution (taking more than 30 seconds)\n",
      "Fitting 110 distributions:  75%|███████▍  | 82/110 [04:03<00:26,  1.07it/s]SKIPPED norminvgauss distribution (taking more than 30 seconds)\n",
      "Fitting 110 distributions:  76%|███████▋  | 84/110 [04:05<00:28,  1.10s/it]SKIPPED pearson3 distribution (taking more than 30 seconds)\n",
      "Fitting 110 distributions:  77%|███████▋  | 85/110 [04:20<01:42,  4.09s/it]SKIPPED powerlognorm distribution (taking more than 30 seconds)\n",
      "Fitting 110 distributions:  78%|███████▊  | 86/110 [04:24<01:37,  4.04s/it]SKIPPED powernorm distribution (taking more than 30 seconds)\n",
      "Fitting 110 distributions:  79%|███████▉  | 87/110 [04:25<01:12,  3.16s/it]SKIPPED rdist distribution (taking more than 30 seconds)\n",
      "Fitting 110 distributions:  80%|████████  | 88/110 [04:29<01:18,  3.58s/it]SKIPPED recipinvgauss distribution (taking more than 30 seconds)\n",
      "Fitting 110 distributions:  81%|████████  | 89/110 [04:30<00:58,  2.78s/it]SKIPPED rice distribution (taking more than 30 seconds)\n",
      "Fitting 110 distributions:  82%|████████▏ | 90/110 [04:33<00:55,  2.77s/it]SKIPPED semicircular distribution (taking more than 30 seconds)\n",
      "Fitting 110 distributions:  83%|████████▎ | 91/110 [04:33<00:38,  2.04s/it]SKIPPED skewcauchy distribution (taking more than 30 seconds)\n",
      "Fitting 110 distributions:  84%|████████▎ | 92/110 [04:36<00:40,  2.23s/it]/home/thalis/repositories/TCC/venv/lib/python3.8/site-packages/scipy/integrate/_quadpack_py.py:1225: IntegrationWarning: The maximum number of subdivisions (50) has been achieved.\n",
      "  If increasing the limit yields no improvement it is advised to analyze \n",
      "  the integrand in order to determine the difficulties.  If the position of a \n",
      "  local difficulty can be determined (singularity, discontinuity) one will \n",
      "  probably gain from splitting up the interval and calling the integrator \n",
      "  on the subranges.  Perhaps a special-purpose integrator should be used.\n",
      "  quad_r = quad(f, low, high, args=args, full_output=self.full_output,\n",
      "SKIPPED skewnorm distribution (taking more than 30 seconds)\n",
      "Fitting 110 distributions:  85%|████████▍ | 93/110 [04:50<01:39,  5.85s/it]SKIPPED studentized_range distribution (taking more than 30 seconds)\n",
      "Fitting 110 distributions:  85%|████████▌ | 94/110 [04:54<01:24,  5.28s/it]SKIPPED t distribution (taking more than 30 seconds)\n",
      "Fitting 110 distributions:  86%|████████▋ | 95/110 [04:55<00:58,  3.87s/it]SKIPPED trapezoid distribution (taking more than 30 seconds)\n",
      "Fitting 110 distributions:  88%|████████▊ | 97/110 [05:00<00:40,  3.08s/it]SKIPPED trapz distribution (taking more than 30 seconds)\n",
      "Fitting 110 distributions:  89%|████████▉ | 98/110 [05:00<00:26,  2.22s/it]SKIPPED triang distribution (taking more than 30 seconds)\n",
      "Fitting 110 distributions:  90%|█████████ | 99/110 [05:03<00:26,  2.38s/it]SKIPPED truncexpon distribution (taking more than 30 seconds)\n",
      "Fitting 110 distributions:  91%|█████████ | 100/110 [05:03<00:17,  1.76s/it]SKIPPED truncnorm distribution (taking more than 30 seconds)\n",
      "Fitting 110 distributions:  92%|█████████▏| 101/110 [05:06<00:17,  1.99s/it]SKIPPED truncpareto distribution (taking more than 30 seconds)\n",
      "Fitting 110 distributions:  93%|█████████▎| 102/110 [05:20<00:46,  5.75s/it]SKIPPED truncweibull_min distribution (taking more than 30 seconds)\n",
      "Fitting 110 distributions:  94%|█████████▎| 103/110 [05:24<00:36,  5.19s/it]SKIPPED tukeylambda distribution (taking more than 30 seconds)\n",
      "Fitting 110 distributions:  95%|█████████▍| 104/110 [05:25<00:22,  3.79s/it]SKIPPED vonmises distribution (taking more than 30 seconds)\n",
      "Fitting 110 distributions:  95%|█████████▌| 105/110 [05:30<00:21,  4.29s/it]SKIPPED vonmises_line distribution (taking more than 30 seconds)\n",
      "SKIPPED wald distribution (taking more than 30 seconds)\n",
      "Fitting 110 distributions:  97%|█████████▋| 107/110 [05:33<00:08,  3.00s/it]SKIPPED weibull_max distribution (taking more than 30 seconds)\n",
      "Fitting 110 distributions:  98%|█████████▊| 108/110 [05:33<00:04,  2.29s/it]SKIPPED weibull_min distribution (taking more than 30 seconds)\n",
      "Fitting 110 distributions:  99%|█████████▉| 109/110 [05:36<00:02,  2.41s/it]SKIPPED wrapcauchy distribution (taking more than 30 seconds)\n",
      "Fitting 110 distributions: 100%|██████████| 110/110 [05:50<00:00,  3.19s/it]\n"
     ]
    },
    {
     "data": {
      "text/plain": [
       "0.0"
      ]
     },
     "execution_count": 7,
     "metadata": {},
     "output_type": "execute_result"
    }
   ],
   "source": [
    "np.mean([i>=.01 for i in get_fitted_ks_values(stream_ln)])"
   ]
  }
 ],
 "metadata": {
  "kernelspec": {
   "display_name": "venv",
   "language": "python",
   "name": "python3"
  },
  "language_info": {
   "codemirror_mode": {
    "name": "ipython",
    "version": 3
   },
   "file_extension": ".py",
   "mimetype": "text/x-python",
   "name": "python",
   "nbconvert_exporter": "python",
   "pygments_lexer": "ipython3",
   "version": "3.8.10"
  },
  "orig_nbformat": 4,
  "vscode": {
   "interpreter": {
    "hash": "eacde64116501d434fc36353d8e421b6798d96015acf9f09cfdb6234af2c3678"
   }
  }
 },
 "nbformat": 4,
 "nbformat_minor": 2
}
